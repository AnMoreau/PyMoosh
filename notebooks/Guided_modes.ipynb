{
 "cells": [
  {
   "cell_type": "markdown",
   "id": "0d90b8ab",
   "metadata": {},
   "source": [
    "# Towards \"Guided modes\""
   ]
  },
  {
   "cell_type": "markdown",
   "id": "9be2665a",
   "metadata": {},
   "source": []
  },
  {
   "cell_type": "code",
   "execution_count": 1,
   "id": "8c6a3314",
   "metadata": {},
   "outputs": [
    {
     "name": "stdout",
     "output_type": "stream",
     "text": [
      "List of materials:\n",
      "Simple, non dispersive: epsilon= 1.0\n",
      "Simple, non dispersive: epsilon= 2.25\n"
     ]
    }
   ],
   "source": [
    "import matplotlib.pyplot as plt\n",
    "import sys\n",
    "import os\n",
    "module_path = os.path.abspath(os.path.join('..'))\n",
    "sys.path.append(module_path+\"/code\")\n",
    "\n",
    "# Here it is !\n",
    "from PyMoosh import *\n",
    "\n",
    "structure = Structure([1.,2.25],[0,1,0],[0,600,0])"
   ]
  },
  {
   "cell_type": "code",
   "execution_count": 2,
   "id": "592959b8",
   "metadata": {},
   "outputs": [
    {
     "name": "stdout",
     "output_type": "stream",
     "text": [
      "(0.011224157153375701+1.0471975511965976e-13j) 1.2585506192481664\n"
     ]
    }
   ],
   "source": [
    "wavelength=600.\n",
    "k_0 = 2*np.pi/wavelength\n",
    "k_x = (1.0718280558+0.00000000001j)*k_0\n",
    "f=dispersion(k_x,structure,wavelength,0)\n",
    "print(k_x,f)"
   ]
  },
  {
   "cell_type": "code",
   "execution_count": 3,
   "id": "64aafdbe",
   "metadata": {},
   "outputs": [],
   "source": [
    "solution2 = steepest(1.05,1e-10,1000,structure,wavelength,0.)"
   ]
  },
  {
   "cell_type": "code",
   "execution_count": 4,
   "id": "909eeac6",
   "metadata": {},
   "outputs": [
    {
     "name": "stdout",
     "output_type": "stream",
     "text": [
      "(1.0393548947630202-7.097323300413063e-15j) 2.5512623363543826e-12\n"
     ]
    }
   ],
   "source": [
    "#print(solution,dispersion(solution*k_0,structure,wavelength,0.))\n",
    "print(solution2,dispersion(solution2*k_0,structure,wavelength,0.))"
   ]
  },
  {
   "cell_type": "markdown",
   "id": "e50759b4",
   "metadata": {},
   "source": [
    "## Mapping the reflection coefficient in the complex plane"
   ]
  },
  {
   "cell_type": "code",
   "execution_count": 5,
   "id": "a4db0cbf",
   "metadata": {},
   "outputs": [],
   "source": [
    "X,Y,T = Map(structure,wavelength,0.,[1.,1.6],[-0.3,0.3],200,200)"
   ]
  },
  {
   "cell_type": "code",
   "execution_count": 6,
   "id": "85991453",
   "metadata": {},
   "outputs": [
    {
     "data": {
      "image/png": "[encoded data removed]",
      "text/plain": [
       "<Figure size 432x288 with 1 Axes>"
      ]
     },
     "metadata": {
      "needs_background": "light"
     },
     "output_type": "display_data"
    }
   ],
   "source": [
    "    plt.contourf(X,Y,np.sqrt(np.real(T)))\n",
    "    plt.show()\n"
   ]
  },
  {
   "cell_type": "markdown",
   "id": "4630f0e7",
   "metadata": {},
   "source": [
    "## Finding the modes of the structure\n",
    "\n",
    "Now there is an automated way to find the different modes in this structure without having to look at the map or launch by hand a few steepest descents to find "
   ]
  },
  {
   "cell_type": "code",
   "execution_count": 7,
   "id": "43f3cc60",
   "metadata": {},
   "outputs": [],
   "source": [
    "modes = Guided_modes(structure,wavelength,0,1.01,1.6)"
   ]
  },
  {
   "cell_type": "code",
   "execution_count": 8,
   "id": "c1001123",
   "metadata": {},
   "outputs": [
    {
     "name": "stdout",
     "output_type": "stream",
     "text": [
      "[(1.0393548947633602+5.200539560585425e-13j), (1.29233072005792+1.1920373375432785e-12j), (1.4491167148388402+2.0333011878336815e-12j)]\n"
     ]
    }
   ],
   "source": [
    "print(modes)"
   ]
  },
  {
   "cell_type": "code",
   "execution_count": null,
   "id": "658c7cb7",
   "metadata": {},
   "outputs": [],
   "source": []
  }
 ],
 "metadata": {
  "kernelspec": {
   "display_name": "Python 3",
   "language": "python",
   "name": "python3"
  },
  "language_info": {
   "codemirror_mode": {
    "name": "ipython",
    "version": 3
   },
   "file_extension": ".py",
   "mimetype": "text/x-python",
   "name": "python",
   "nbconvert_exporter": "python",
   "pygments_lexer": "ipython3",
   "version": "3.8.10"
  }
 },
 "nbformat": 4,
 "nbformat_minor": 5
}
