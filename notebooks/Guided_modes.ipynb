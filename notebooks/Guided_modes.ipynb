{
 "cells": [
  {
   "cell_type": "markdown",
   "id": "eda78b6c",
   "metadata": {},
   "source": [
    "# Towards \"Guided modes\""
   ]
  },
  {
   "cell_type": "code",
   "execution_count": 5,
   "id": "85ee3dde",
   "metadata": {},
   "outputs": [
    {
     "name": "stdout",
     "output_type": "stream",
     "text": [
      "List of materials:\n",
      "Custom: 1.0\n",
      "Custom: 2.25\n"
     ]
    }
   ],
   "source": [
    "import matplotlib.pyplot as plt\n",
    "import sys\n",
    "import os\n",
    "module_path = os.path.abspath(os.path.join('..'))\n",
    "sys.path.append(module_path+\"/code\")\n",
    "\n",
    "# Here it is !\n",
    "from PyMoosh import *\n",
    "\n",
    "structure = Structure([1.,2.25],[0,1,0],[0,350,0])\n"
   ]
  },
  {
   "cell_type": "code",
   "execution_count": 6,
   "id": "8f22a731",
   "metadata": {},
   "outputs": [
    {
     "data": {
      "text/plain": [
       "2.3947482749946767"
      ]
     },
     "execution_count": 6,
     "metadata": {},
     "output_type": "execute_result"
    }
   ],
   "source": [
    "wavelength=600.\n",
    "k_0 = 2*np.pi/wavelength\n",
    "k_x = 1.2*k_0\n",
    "dispersion(structure,k_x,wavelength,0)"
   ]
  },
  {
   "cell_type": "code",
   "execution_count": 13,
   "id": "c6cbc4d4",
   "metadata": {},
   "outputs": [],
   "source": [
    "X,Y,T,k_0 = Map(structure,wavelength,0.,[1.,1.6],[-0.3,0.3],200,200)"
   ]
  },
  {
   "cell_type": "code",
   "execution_count": 14,
   "id": "c5f9ec5d",
   "metadata": {},
   "outputs": [
    {
     "data": {
      "image/png": "[encoded data removed]",
      "text/plain": [
       "<Figure size 432x288 with 1 Axes>"
      ]
     },
     "metadata": {
      "needs_background": "light"
     },
     "output_type": "display_data"
    }
   ],
   "source": [
    "    plt.contourf(X,Y,np.sqrt(T))\n",
    "    plt.show()\n"
   ]
  },
  {
   "cell_type": "code",
   "execution_count": null,
   "id": "86ecd2a3",
   "metadata": {},
   "outputs": [],
   "source": []
  }
 ],
 "metadata": {
  "kernelspec": {
   "display_name": "Python 3",
   "language": "python",
   "name": "python3"
  },
  "language_info": {
   "codemirror_mode": {
    "name": "ipython",
    "version": 3
   },
   "file_extension": ".py",
   "mimetype": "text/x-python",
   "name": "python",
   "nbconvert_exporter": "python",
   "pygments_lexer": "ipython3",
   "version": "3.8.10"
  }
 },
 "nbformat": 4,
 "nbformat_minor": 5
}
