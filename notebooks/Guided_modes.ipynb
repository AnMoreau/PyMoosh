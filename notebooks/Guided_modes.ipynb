{
 "cells": [
  {
   "cell_type": "markdown",
   "id": "8d4da60d",
   "metadata": {},
   "source": [
    "# Towards \"Guided modes\""
   ]
  },
  {
   "cell_type": "code",
   "execution_count": 1,
   "id": "81d5c444",
   "metadata": {},
   "outputs": [
    {
     "name": "stdout",
     "output_type": "stream",
     "text": [
      "List of materials:\n",
      "Custom: 1.0\n",
      "Custom: 2.25\n"
     ]
    }
   ],
   "source": [
    "import matplotlib.pyplot as plt\n",
    "import sys\n",
    "import os\n",
    "module_path = os.path.abspath(os.path.join('..'))\n",
    "sys.path.append(module_path+\"/code\")\n",
    "\n",
    "# Here it is !\n",
    "from PyMoosh import *\n",
    "\n",
    "structure = Structure([1.,2.25],[0,1,0],[0,350,0])\n"
   ]
  },
  {
   "cell_type": "code",
   "execution_count": 2,
   "id": "fe16ade6",
   "metadata": {},
   "outputs": [
    {
     "name": "stdout",
     "output_type": "stream",
     "text": [
      "(0.011224157153375701+1.0471975511965976e-13j) 9.857839593477107e-10\n"
     ]
    }
   ],
   "source": [
    "wavelength=600.\n",
    "k_0 = 2*np.pi/wavelength\n",
    "k_x = (1.0718280558+0.00000000001j)*k_0\n",
    "f=dispersion(k_x,structure,wavelength,0)\n",
    "print(k_x,f)"
   ]
  },
  {
   "cell_type": "code",
   "execution_count": 4,
   "id": "5da05f46",
   "metadata": {},
   "outputs": [
    {
     "name": "stdout",
     "output_type": "stream",
     "text": [
      "[0.01099557+0.j         0.01110029-0.00010472j 0.01120501+0.00010472j] \n",
      " step : 0 \n",
      " [0.28640785 0.20817124 0.14076774]\n",
      "Nouvelles valeurs: 0 (1.077433003869925+0.0025669961300751635j) 0.08765616127375941\n",
      "Nouvelles valeurs: 1 (1.074836299583496+0.010877533380234646j) 0.1587070430889583\n",
      "Nouvelles valeurs: 2 (1.0873787716150196+0.0069556550505200775j) 0.25100004727978836\n",
      "Nouvelles valeurs: 3 (1.0899818609821872+0.020465905929018074j) 0.4039279389827117\n",
      "Nouvelles valeurs: 4 (1.104295376350838+0.0026603899776730514j) 0.5163871514425852\n",
      "Nouvelles valeurs: 5 (1.1242623822582034+0.016878630681226792j) 0.960382470327248\n",
      "Nouvelles valeurs: 6 (1.117637456055959-0.02351137793947184j) 0.8579628976802721\n",
      "Nouvelles valeurs: 7 (1.1518554878571616-0.0344693373235821j) 1.7362745419390209\n",
      "Nouvelles valeurs: 8 (1.0972385214940727-0.05414373346720935j) 0.8612560411741593\n",
      "Nouvelles valeurs: 9 (1.0994425002939758-0.08641765285295677j) 1.2143291894611057\n",
      "Nouvelles valeurs: 10 (1.0689983657937978-0.03113430232764606j) 0.424713193180611\n",
      "Nouvelles valeurs: 11 (1.047939364034394-0.025790787831033547j) 0.4529237493962033\n",
      "Nouvelles valeurs: 12 (1.0953356380865198-0.028051450712139072j) 0.5474959129717103\n",
      "Nouvelles valeurs: 13 (1.1578694543373642-0.007511650935829015j) 1.9564833184884978\n",
      "Nouvelles valeurs: 14 (1.069758900462621-0.05911231438494543j) 0.7732308925333049\n",
      "Nouvelles valeurs: 15 (1.046500675630051-0.10417841229250153j) 1.21837877852698\n",
      "Nouvelles valeurs: 16 (1.0731109402906494-0.0154538360776931j) 0.21632029552453402\n",
      "Nouvelles valeurs: 17 (1.0716527866820031-0.00205821042133606j) 0.028808784457426052\n",
      "Nouvelles valeurs: 18 (1.0719622099826105-0.003996308827141308j) 0.05580937637688523\n",
      "Nouvelles valeurs: 19 (1.0713560370451114+1.9467895643512414e-05j) 0.006582841133763581\n",
      "Nouvelles valeurs: 20 (1.0712511334008172+0.0008013721295077506j) 0.013754445696990988\n",
      "Nouvelles valeurs: 21 (1.0714806019405436-0.0009444100221401077j) 0.01402744752091443\n",
      "Nouvelles valeurs: 22 (1.0716329780742786-0.0021488323973903566j) 0.03008984521725437\n",
      "Nouvelles valeurs: 23 (1.07130998162021+0.0004454211766297333j) 0.009518853148544183\n",
      "Nouvelles valeurs: 24 (1.0711214163422462+0.002006962255451862j) 0.029623694669081466\n",
      "Nouvelles valeurs: 25 (1.0714116443171915-0.00042480501014166685j) 0.008290408090708974\n",
      "Nouvelles valeurs: 26 (1.0715645552694186-0.001749658139474727j) 0.024670344974089316\n",
      "Nouvelles valeurs: 27 (1.0713258694151075+0.0003434883393184486j) 0.008477065239938015\n",
      "Nouvelles valeurs: 28 (1.0711951234964434+0.0015292913838387502j) 0.023049553923118537\n",
      "Nouvelles valeurs: 29 (1.0714066019891928-0.00041272836724710535j) 0.008220991274762276\n",
      "Nouvelles valeurs: 30 (1.071528350339734-0.0015678765553439867j) 0.022254151013924167\n",
      "Nouvelles valeurs: 31 (1.0713341175088524+0.0002980974324389301j) 0.008038396625091301\n",
      "Nouvelles valeurs: 32 (1.0712211189455538+0.0014205765136343243j) 0.021515504156279855\n",
      "Nouvelles valeurs: 33 (1.0714009609121198-0.00038899247887643526j) 0.008050841278138429\n",
      "Nouvelles valeurs: 34 (1.0715065771114558-0.0014891524507823913j) 0.021237727289851627\n",
      "Nouvelles valeurs: 35 (1.0713376853558252+0.00029386461870713724j) 0.007965492230074239\n",
      "Nouvelles valeurs: 36 (1.0712377402901747+0.0013875297419955386j) 0.021002485784011916\n",
      "Nouvelles valeurs: 37 (1.0713968774235518-0.00037835446426067723j) 0.007994350859271126\n",
      "Nouvelles valeurs: 38 (1.0714911055649512-0.0014640875906592357j) 0.020942607432344263\n",
      "Nouvelles valeurs: 39 (1.0713406821666673+0.0002948297678509034j) 0.00793673329020299\n",
      "Nouvelles valeurs: 40 (1.0712514647856728+0.0013800625101174464j) 0.020833312122648103\n",
      "Nouvelles valeurs: 41 (1.0713933390182044-0.0003725955084407111j) 0.00797893070528627\n",
      "Nouvelles valeurs: 42 (1.071477286906667-0.0014539266460810412j) 0.02084801304851781\n",
      "Nouvelles valeurs: 43 (1.0713434829140314+0.00029812397607521714j) 0.007927395292455317\n",
      "Nouvelles valeurs: 44 (1.0712643368381873+0.001381293068197835j) 0.020781581488542946\n",
      "Nouvelles valeurs: 45 (1.0713899536598461-0.00036803741440981835j) 0.007973717889924797\n",
      "Nouvelles valeurs: 46 (1.0714639584200445-0.0014484131166414371j) 0.020816931918723774\n",
      "Nouvelles valeurs: 47 (1.071346257335914+0.0003021494656327488j) 0.007924223538542064\n",
      "Nouvelles valeurs: 48 (1.0712770170041992+0.0013850819959796267j) 0.020765362324789222\n",
      "Nouvelles valeurs: 49 (1.0713866366309115-0.0003638579390203645j) 0.007971909098871745\n",
      "Nouvelles valeurs: 50 (1.0714507809951623-0.001444286770529371j) 0.020805936140493874\n",
      "Nouvelles valeurs: 51 (1.0713490559789225+0.00030637801449247216j) 0.007922876683442569\n",
      "Nouvelles valeurs: 52 (1.0712896865402022+0.0013895958136085876j) 0.020760233903449995\n",
      "Nouvelles valeurs: 53 (1.0713833620719373-0.0003597724430548995j) 0.007971158226392421\n",
      "Nouvelles valeurs: 54 (1.0714376571850346-0.0014405033060451505j) 0.020801137638132884\n",
      "Nouvelles valeurs: 55 (1.071351892210759+0.0003106567193283001j) 0.007922103873097736\n",
      "Nouvelles valeurs: 56 (1.071302396341876+0.0013942600328688815j) 0.020758560072728992\n",
      "Nouvelles valeurs: 57 (1.071380122984476-0.0003556918442686782j) 0.007970731444460713\n",
      "Nouvelles valeurs: 58 (1.071424560661176-0.0014367408109612022j) 0.02079826150588873\n",
      "Nouvelles valeurs: 59 (1.0713547697679173+0.00031493658271348476j) 0.007921507433157546\n",
      "Nouvelles valeurs: 60 (1.0713151600677107+0.0013988944298435088j) 0.020757954732703074\n",
      "Nouvelles valeurs: 61 (1.0713769177456058-0.00035158898993484765j) 0.007970404127647358\n",
      "Nouvelles valeurs: 62 (1.0714114849597922-0.0014328989182196938j) 0.020795977523696607\n",
      "Nouvelles valeurs: 63 (1.0713576896159902+0.0003192020582564663j) 0.00792096376941369\n",
      "Nouvelles valeurs: 64 (1.071327980848377+0.001403442510348366j) 0.02075767785983926\n",
      "Nouvelles valeurs: 65 (1.0713737462038428-0.0003474555391342391j) 0.007970106089015107\n",
      "Nouvelles valeurs: 66 (1.0713984291791987-0.001428946288146302j) 0.020793872002482224\n",
      "Nouvelles valeurs: 67 (1.071360651950079+0.00032344802148568074j) 0.007920434599480762\n",
      "Nouvelles valeurs: 68 (1.071340858890711+0.001407886135185983j) 0.020757499311664037\n",
      "Nouvelles valeurs: 69 (1.0713706086137245-0.00034328904986537316j) 0.007969815506734746\n",
      "Nouvelles valeurs: 70 (1.0713853939567637-0.0014248730885336315j) 0.02079181650121223\n",
      "Nouvelles valeurs: 71 (1.0713636567529494+0.0003276725713155911j) 0.007919908013573874\n",
      "Nouvelles valeurs: 72 (1.0713537935933273+0.0014122191011608648j) 0.02075734748235968\n",
      "Nouvelles valeurs: 73 (1.0713675053390126-0.0003390889178557423j) 0.007969525591193656\n",
      "Nouvelles valeurs: 74 (1.0713723803511823-0.001420676176893004j) 0.020789771143796064\n",
      "Nouvelles valeurs: 75 (1.0713667039474204+0.0003318748098308403j) 0.007919380309179052\n",
      "Nouvelles valeurs: 76 (1.0713667841298307+0.001416438920895458j) 0.020757200048828063\n",
      "Nouvelles valeurs: 77 (1.0713644367718762-0.00033485511286566484j) 0.007969234220125866\n",
      "Nouvelles valeurs: 78 (1.0713593895371254-0.0014163544981524252j) 0.020787723575009836\n",
      "Nouvelles valeurs: 79 (1.0713697934374713+0.0003360541503704988j) 0.007918850333425034\n",
      "Nouvelles valeurs: 80 (1.0713798296068515+0.001420544265691097j) 0.020757050000516784\n",
      "Nouvelles valeurs: 81 (1.0713614033113352-0.0003305877863539708j) 0.007968940722400583\n",
      "Nouvelles valeurs: 82 (1.0713464227233074-0.0014119076536358549j) 0.02078566999118684\n",
      "Nouvelles valeurs: 83 (1.071372925119038+0.00034021010248836753j) 0.007918317725468865\n",
      "Nouvelles valeurs: 84 (1.0713929291059123+0.0014245341707967301j) 0.0207568950852713\n",
      "Nouvelles valeurs: 85 (1.07135840535764-0.000326287149433474j) 0.007968644877884384\n",
      "Nouvelles valeurs: 86 (1.07133348113103-0.0014073354562303163j) 0.02078360924600975\n",
      "Nouvelles valeurs: 87 (1.0713760988827368+0.00034434220516485264j) 0.00791778237062703\n",
      "Nouvelles valeurs: 88 (1.0714060816941833+0.0014284077884270377j) 0.020756734529372833\n",
      "Nouvelles valeurs: 89 (1.0713554433108397-0.00032195343494083464j) 0.007968346606629756\n",
      "Nouvelles valeurs: 90 (1.071320565988727-0.0014026377921895377j) 0.020781541019289473\n",
      "Nouvelles valeurs: 91 (1.0713793146145016+0.0003484500060744439j) 0.007917244230784404\n",
      "Nouvelles valeurs: 92 (1.071419286427122+0.0014321643110783325j) 0.020756568018251143\n",
      "Nouvelles valeurs: 93 (1.0713525175704148-0.0003175868856584491j) 0.007968045872280146\n",
      "Nouvelles valeurs: 94 (1.071307678530607-0.0013978145782535519j) 0.020779465248053047\n",
      "Nouvelles valeurs: 95 (1.0713825721957067+0.00035253305516828355j) 0.007916703291688318\n",
      "Nouvelles valeurs: 96 (1.0714325423490756+0.0014358029477817944j) 0.020756395379706104\n",
      "Nouvelles valeurs: 97 (1.0713496285351647-0.00031318775066457486j) 0.007967742652056709\n",
      "Nouvelles valeurs: 98 (1.071294819996304-0.001392865748391045j) 0.02077738194972592\n",
      "Nouvelles valeurs: 99 (1.0713858715031632+0.00035659090270832714j) 0.007916159546617993\n",
      "Step 0 (0.011006569861851839-2.337209413382742e-18j) 0.27332258758754685\n",
      "Step 1 (0.011017565436139402-4.664567779077709e-18j) 0.2601809426258381\n",
      "Step 2 (0.011028561010426966-4.664567779077709e-18j) 0.2469807142232161\n",
      "Step 3 (0.01103955658471453-9.278063723126668e-18j) 0.23371972166022847\n",
      "Step 4 (0.011050552159002093-2.390019744347885e-18j) 0.2203958020483499\n",
      "Step 5 (0.011061547733289656-1.2475137692551215e-18j) 0.20700680602541294\n",
      "Step 6 (0.01107254330757722+2.1631126408769634e-18j) 0.19355059370859512\n",
      "Step 7 (0.011083538881864783+4.425354701977714e-18j) 0.18002503087376656\n",
      "Step 8 (0.011094534456152346+6.6758498323741256e-18j) 0.16642798533350783\n",
      "Step 9 (0.01110553003043991+3.3180707383838322e-18j) 0.15275732348901658\n",
      "Step 10 (0.011116525604727473+1.0917471599433677e-18j) 0.13901090703370877\n",
      "Step 11 (0.011127521179015037+7.733494887151921e-18j) 0.1251865897885593\n",
      "Step 12 (0.0111385167533026+1.213610321727634e-17j) 0.11128221465109855\n",
      "Step 13 (0.011149512327590164+4.476368261393476e-18j) 0.09729561064171365\n",
      "Step 14 (0.011160507901877727+8.283488854841022e-18j) 0.08322459003229007\n",
      "Step 15 (0.01117150347616529+7.742909828770914e-18j) 0.06906694554353554\n",
      "Step 16 (0.011182499050452854+1.8332758034799337e-18j) 0.05482044759836594\n",
      "Step 17 (0.011193494624740417+1.4645847367453338e-17j) 0.040482841619734956\n",
      "Step 18 (0.01120449019902798+7.219778183927093e-18j) 0.026051845362038674\n",
      "Step 19 (0.011215485773315544-2.2656799108665408e-18j) 0.011525146265970858\n",
      "Step 20 (0.011226481347603108-1.6072137101234672e-17j) 0.003099601172708267\n",
      "Step 23 (0.011223732454031217-2.1434025291662954e-19j) 0.0005659073015487511\n",
      "Step 26 (0.01122441967742419+9.546894000408962e-18j) 0.0003498834297301517\n",
      "Step 28 (0.011224076065727704-9.460897940331531e-18j) 0.00010806071630619422\n",
      "Step 31 (0.011224161968651825-5.18033473949917e-18j) 6.41617102761049e-06\n",
      "Step 36 (0.011224156599719067-1.2152217176038061e-18j) 7.388130922968988e-07\n",
      "Step 40 (0.011224157270835661-2.041677594796065e-18j) 1.5555861955247607e-07\n",
      "Step 43 (0.011224157103056513+5.892216711080368e-18j) 6.80343419696877e-08\n",
      "Step 45 (0.011224157186946087-9.241137175455159e-18j) 4.376213576887277e-08\n",
      "Step 47 (0.0112241571450013-6.16338169796459e-18j) 1.2136104600604895e-08\n",
      "Step 50 (0.011224157155487496+8.99198008727272e-18j) 1.8384554783440183e-09\n",
      "Step 53 (0.011224157152865948-1.4419150705749692e-17j) 1.655183299647026e-09\n",
      "Step 55 (0.011224157154176722+1.3783190186747536e-17j) 9.163564027234961e-11\n",
      "End of the loop\n"
     ]
    }
   ],
   "source": [
    "solution = muller([1.05,1.06-0.01j,1.07+0.01j],1e-10,100,structure,wavelength,0)\n",
    "solution2 = steepest(1.05,1e-10,1000,structure,wavelength,0.)"
   ]
  },
  {
   "cell_type": "code",
   "execution_count": 7,
   "id": "e1446def",
   "metadata": {},
   "outputs": [
    {
     "name": "stdout",
     "output_type": "stream",
     "text": [
      "(1.0738139846571324+0.0005082357394898574j) 0.028795169728147094\n",
      "(1.0718280558764919+1.3161977098779449e-15j) 9.163731152025232e-11\n"
     ]
    }
   ],
   "source": [
    "print(solution,dispersion(solution*k_0,structure,wavelength,0.))\n",
    "print(solution2,dispersion(solution2*k_0,structure,wavelength,0.))"
   ]
  },
  {
   "cell_type": "markdown",
   "id": "89585c3e",
   "metadata": {},
   "source": [
    "## Mapping the reflection coefficient in the complex plane"
   ]
  },
  {
   "cell_type": "code",
   "execution_count": 3,
   "id": "839ce427",
   "metadata": {},
   "outputs": [],
   "source": [
    "X,Y,T,k_0 = Map(structure,wavelength,0.,[1.,1.6],[-0.3,0.3],200,200)"
   ]
  },
  {
   "cell_type": "code",
   "execution_count": 4,
   "id": "d90e58c9",
   "metadata": {},
   "outputs": [
    {
     "data": {
      "image/png": "[encoded data removed]",
      "text/plain": [
       "<Figure size 432x288 with 1 Axes>"
      ]
     },
     "metadata": {
      "needs_background": "light"
     },
     "output_type": "display_data"
    }
   ],
   "source": [
    "    plt.contourf(X,Y,np.sqrt(np.real(T)))\n",
    "    plt.show()\n"
   ]
  },
  {
   "cell_type": "code",
   "execution_count": 3,
   "id": "fd6aaf13",
   "metadata": {},
   "outputs": [
    {
     "ename": "RuntimeError",
     "evalue": "Failed to converge after 50 iterations, value is (-0.023935424618909157+0j).",
     "output_type": "error",
     "traceback": [
      "\u001b[0;31m---------------------------------------------------------------------------\u001b[0m",
      "\u001b[0;31mRuntimeError\u001b[0m                              Traceback (most recent call last)",
      "\u001b[0;32m<ipython-input-3-37351f0673e1>\u001b[0m in \u001b[0;36m<module>\u001b[0;34m\u001b[0m\n\u001b[0;32m----> 1\u001b[0;31m \u001b[0mGuided_modes\u001b[0m\u001b[0;34m(\u001b[0m\u001b[0mstructure\u001b[0m\u001b[0;34m,\u001b[0m\u001b[0mwavelength\u001b[0m\u001b[0;34m,\u001b[0m\u001b[0;36m0\u001b[0m\u001b[0;34m,\u001b[0m\u001b[0;36m1.\u001b[0m\u001b[0;34m,\u001b[0m\u001b[0;36m1.6\u001b[0m\u001b[0;34m)\u001b[0m\u001b[0;34m\u001b[0m\u001b[0;34m\u001b[0m\u001b[0m\n\u001b[0m",
      "\u001b[0;32m~/.seafile/Seafile/nuage/Forge/PyMoosh/code/PyMoosh.py\u001b[0m in \u001b[0;36mGuided_modes\u001b[0;34m(struct, wavelength, polarization, neff_min, neff_max)\u001b[0m\n\u001b[1;32m    768\u001b[0m     \u001b[0mmodes\u001b[0m\u001b[0;34m=\u001b[0m\u001b[0;34m[\u001b[0m\u001b[0;34m]\u001b[0m\u001b[0;34m\u001b[0m\u001b[0;34m\u001b[0m\u001b[0m\n\u001b[1;32m    769\u001b[0m     \u001b[0;32mfor\u001b[0m \u001b[0mkx\u001b[0m \u001b[0;32min\u001b[0m \u001b[0mkx_start\u001b[0m\u001b[0;34m:\u001b[0m\u001b[0;34m\u001b[0m\u001b[0;34m\u001b[0m\u001b[0m\n\u001b[0;32m--> 770\u001b[0;31m         \u001b[0msolution\u001b[0m \u001b[0;34m=\u001b[0m \u001b[0moptim\u001b[0m\u001b[0;34m.\u001b[0m\u001b[0mnewton\u001b[0m\u001b[0;34m(\u001b[0m\u001b[0mdispersion\u001b[0m\u001b[0;34m,\u001b[0m\u001b[0mkx\u001b[0m\u001b[0;34m,\u001b[0m\u001b[0margs\u001b[0m\u001b[0;34m=\u001b[0m\u001b[0;34m(\u001b[0m\u001b[0mstruct\u001b[0m\u001b[0;34m,\u001b[0m\u001b[0mwavelength\u001b[0m\u001b[0;34m,\u001b[0m\u001b[0mpolarization\u001b[0m\u001b[0;34m)\u001b[0m\u001b[0;34m,\u001b[0m\u001b[0mtol\u001b[0m\u001b[0;34m=\u001b[0m\u001b[0mtolerance\u001b[0m\u001b[0;34m,\u001b[0m\u001b[0mfull_output\u001b[0m \u001b[0;34m=\u001b[0m \u001b[0;32mTrue\u001b[0m\u001b[0;34m)\u001b[0m\u001b[0;34m\u001b[0m\u001b[0;34m\u001b[0m\u001b[0m\n\u001b[0m\u001b[1;32m    771\u001b[0m \u001b[0;31m#        solution = optim.minimize(dispersion,kx,args=(struct,wavelength,polarization))\u001b[0m\u001b[0;34m\u001b[0m\u001b[0;34m\u001b[0m\u001b[0;34m\u001b[0m\u001b[0m\n\u001b[1;32m    772\u001b[0m         \u001b[0mprint\u001b[0m\u001b[0;34m(\u001b[0m\u001b[0msolution\u001b[0m\u001b[0;34m)\u001b[0m\u001b[0;34m\u001b[0m\u001b[0;34m\u001b[0m\u001b[0m\n",
      "\u001b[0;32m~/.local/lib/python3.8/site-packages/scipy/optimize/zeros.py\u001b[0m in \u001b[0;36mnewton\u001b[0;34m(func, x0, fprime, args, tol, maxiter, fprime2, x1, rtol, full_output, disp)\u001b[0m\n\u001b[1;32m    359\u001b[0m         msg = (\"Failed to converge after %d iterations, value is %s.\"\n\u001b[1;32m    360\u001b[0m                % (itr + 1, p))\n\u001b[0;32m--> 361\u001b[0;31m         \u001b[0;32mraise\u001b[0m \u001b[0mRuntimeError\u001b[0m\u001b[0;34m(\u001b[0m\u001b[0mmsg\u001b[0m\u001b[0;34m)\u001b[0m\u001b[0;34m\u001b[0m\u001b[0;34m\u001b[0m\u001b[0m\n\u001b[0m\u001b[1;32m    362\u001b[0m \u001b[0;34m\u001b[0m\u001b[0m\n\u001b[1;32m    363\u001b[0m     \u001b[0;32mreturn\u001b[0m \u001b[0m_results_select\u001b[0m\u001b[0;34m(\u001b[0m\u001b[0mfull_output\u001b[0m\u001b[0;34m,\u001b[0m \u001b[0;34m(\u001b[0m\u001b[0mp\u001b[0m\u001b[0;34m,\u001b[0m \u001b[0mfuncalls\u001b[0m\u001b[0;34m,\u001b[0m \u001b[0mitr\u001b[0m \u001b[0;34m+\u001b[0m \u001b[0;36m1\u001b[0m\u001b[0;34m,\u001b[0m \u001b[0m_ECONVERR\u001b[0m\u001b[0;34m)\u001b[0m\u001b[0;34m)\u001b[0m\u001b[0;34m\u001b[0m\u001b[0;34m\u001b[0m\u001b[0m\n",
      "\u001b[0;31mRuntimeError\u001b[0m: Failed to converge after 50 iterations, value is (-0.023935424618909157+0j)."
     ]
    }
   ],
   "source": [
    "Guided_modes(structure,wavelength,0,1.,1.6)"
   ]
  },
  {
   "cell_type": "code",
   "execution_count": null,
   "id": "3ce59eff",
   "metadata": {},
   "outputs": [],
   "source": []
  }
 ],
 "metadata": {
  "kernelspec": {
   "display_name": "Python 3",
   "language": "python",
   "name": "python3"
  },
  "language_info": {
   "codemirror_mode": {
    "name": "ipython",
    "version": 3
   },
   "file_extension": ".py",
   "mimetype": "text/x-python",
   "name": "python",
   "nbconvert_exporter": "python",
   "pygments_lexer": "ipython3",
   "version": "3.8.10"
  }
 },
 "nbformat": 4,
 "nbformat_minor": 5
}
