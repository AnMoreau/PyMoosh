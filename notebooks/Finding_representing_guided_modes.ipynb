{
 "cells": [
  {
   "cell_type": "markdown",
   "id": "091aaa92",
   "metadata": {},
   "source": [
    "# Studying guided modes with PyMoosh"
   ]
  },
  {
   "cell_type": "markdown",
   "id": "5c5e89c9",
   "metadata": {},
   "source": [
    "Modes are solutions of Maxwell's equations in a multilayered structure absent any source or any outside excitation. In order to find them, one has theoretically to solve the dispersion relation for a given $\\omega$, and by doing so find the wavevector $k_x$ in the complex plane, and then to find the corresponding coefficients of the plane waves in each layer to represent the mode. The mode can be interpreted physically as an excitation which took place inside the structure at $\\pm \\infty$, and thus as a guided or a leaky mode. \n",
    "\n",
    "In the following, we will\n",
    "1. Explain what modes are, exactly, and how we should derive them\n",
    "2. Show what function to use to find guided modes, and how to represent them\n",
    "3. Present a way to study the dispersion relation of these guided modes\n",
    "\n",
    "## Dielectric waveguide\n",
    "\n",
    "We first study the dielectric waveguide, constituted by a 600 nm thick layer of glass typically (with a refractive index of 1.5) surrounded with air. "
   ]
  },
  {
   "cell_type": "code",
   "execution_count": 1,
   "id": "41beb2d4",
   "metadata": {},
   "outputs": [
    {
     "name": "stdout",
     "output_type": "stream",
     "text": [
      "List of materials:\n",
      "Simple, non dispersive: epsilon= 1.0\n",
      "Simple, non dispersive: epsilon= 2.25\n"
     ]
    }
   ],
   "source": [
    "from PyMoosh import *\n",
    "import matplotlib.pyplot as plt\n",
    "plt.rcParams['figure.dpi'] = 150\n",
    "\n",
    "\n",
    "structure = Structure([1.,2.25],[0,1,0],[0,600,200])"
   ]
  },
  {
   "cell_type": "markdown",
   "id": "4fb18082",
   "metadata": {},
   "source": [
    "The wavelength in vaccum (which actually defines the frequency $\\omega$) is taken to be $\\lambda = 600$ nm. The effective index of a guided mode is defined by $$ n_\\text{eff} = \\frac{k_x}{k_0}$$ where $k_0 = \\frac{2\\pi}{\\lambda} = \\frac{\\omega}{c}$. We take first a random effective index and find the value of the function `dispersion`"
   ]
  },
  {
   "cell_type": "code",
   "execution_count": 2,
   "id": "aa1ecc6f",
   "metadata": {},
   "outputs": [
    {
     "name": "stdout",
     "output_type": "stream",
     "text": [
      "(0.011224157153375701+1.0471975511965976e-13j) 1.2585506192481664\n"
     ]
    }
   ],
   "source": [
    "wavelength=600.\n",
    "k_0 = 2*np.pi/wavelength\n",
    "k_x = (1.0718280558+0.00000000001j)*k_0\n",
    "f=dispersion(k_x,structure,wavelength,0)\n",
    "print(k_x,f)"
   ]
  },
  {
   "cell_type": "markdown",
   "id": "9012964a",
   "metadata": {},
   "source": [
    "In PyMoosh, we use a trick instead of solving the dispersion relation. We use the reflection coefficient and try to find the zeros of its inverse. Modes are actually poles of the reflection coefficient, so that finding the zeros of the inverse of the modulus of the reflection coefficient is enough. Since these zeros are minima of $\\frac{1}{|r|}$, we can use a steepest descent (not the most effective way to find the zeros, probably) and we have a halting criterium (when $\\frac{1}{|r|}$ is small enough). \n",
    "\n",
    "Remark: The determination of the square root in the outside medium has to be changed though, otherwise poles of the reflection coefficient can be hidden under another Riemann sheet.\n",
    "\n",
    "In order to use PyMoosh's steepest descent, you have to know where to start in the complex plane (by giving the effective index, which can be complex), provide \n",
    "\n"
   ]
  },
  {
   "cell_type": "code",
   "execution_count": 3,
   "id": "f4e0540a",
   "metadata": {},
   "outputs": [],
   "source": [
    "solution2 = steepest(1.05,1e-10,1000,structure,wavelength,0.)"
   ]
  },
  {
   "cell_type": "code",
   "execution_count": 4,
   "id": "763d2ab1",
   "metadata": {},
   "outputs": [
    {
     "name": "stdout",
     "output_type": "stream",
     "text": [
      "(1.0393548947630198-6.635754054764027e-15j) 2.5403703678492868e-12\n"
     ]
    }
   ],
   "source": [
    "#print(solution,dispersion(solution*k_0,structure,wavelength,0.))\n",
    "print(solution2,dispersion(solution2*k_0,structure,wavelength,0.))"
   ]
  },
  {
   "cell_type": "markdown",
   "id": "19e1e826",
   "metadata": {},
   "source": [
    "### Mapping the reflection coefficient in the complex plane"
   ]
  },
  {
   "cell_type": "code",
   "execution_count": 5,
   "id": "f00a3c03",
   "metadata": {},
   "outputs": [
    {
     "ename": "NameError",
     "evalue": "name 'complex_map' is not defined",
     "output_type": "error",
     "traceback": [
      "\u001b[0;31m---------------------------------------------------------------------------\u001b[0m",
      "\u001b[0;31mNameError\u001b[0m                                 Traceback (most recent call last)",
      "Cell \u001b[0;32mIn[5], line 1\u001b[0m\n\u001b[0;32m----> 1\u001b[0m X,Y,T \u001b[38;5;241m=\u001b[39m \u001b[43mcomplex_map\u001b[49m(structure,wavelength,\u001b[38;5;241m0.\u001b[39m,[\u001b[38;5;241m1.\u001b[39m,\u001b[38;5;241m1.6\u001b[39m],[\u001b[38;5;241m-\u001b[39m\u001b[38;5;241m0.3\u001b[39m,\u001b[38;5;241m0.3\u001b[39m],\u001b[38;5;241m200\u001b[39m,\u001b[38;5;241m200\u001b[39m)\n",
      "\u001b[0;31mNameError\u001b[0m: name 'complex_map' is not defined"
     ]
    }
   ],
   "source": [
    "X,Y,T = complex_map(structure,wavelength,0.,[1.,1.6],[-0.3,0.3],200,200)"
   ]
  },
  {
   "cell_type": "code",
   "execution_count": null,
   "id": "a8c6fb8e",
   "metadata": {},
   "outputs": [],
   "source": [
    "    plt.contourf(X,Y,np.sqrt(np.real(T)))\n",
    "    plt.grid(True)\n",
    "    plt.show()"
   ]
  },
  {
   "cell_type": "markdown",
   "id": "ade3b325",
   "metadata": {},
   "source": [
    "### Finding the modes of the structure\n",
    "\n",
    "Now there is an automated way to find the different modes in this structure without having to look at the map or launch by hand a few steepest descents to find their effective indexes. The function `Guided_modes` does just that, and gives all the different effectives indexes that satisfy the halting condition of the steepest descent."
   ]
  },
  {
   "cell_type": "code",
   "execution_count": null,
   "id": "2bcfc84c",
   "metadata": {},
   "outputs": [],
   "source": [
    "modes = Guided_modes(structure,wavelength,0,1.01,1.6)\n",
    "print(modes)"
   ]
  },
  {
   "cell_type": "markdown",
   "id": "c6992d28",
   "metadata": {},
   "source": [
    "Once the modes have been found, it is possible to access their profile. You have to specify the effective "
   ]
  },
  {
   "cell_type": "code",
   "execution_count": null,
   "id": "f9cf924b",
   "metadata": {},
   "outputs": [],
   "source": [
    "    # Let first modify the thickness of the superstrat which is shown\n",
    "    structure.thickness[0]=200\n",
    "    x,prof = Profile(structure,modes[1],wavelength,0)\n",
    "    plt.plot(x,np.real(prof),linewidth = 2)\n"
   ]
  },
  {
   "cell_type": "code",
   "execution_count": null,
   "id": "cc54b1cc",
   "metadata": {},
   "outputs": [],
   "source": [
    "for k in range(len(modes)):\n",
    "    x,prof = Profile(structure,modes[k],wavelength,0)\n",
    "    plt.plot(x,np.abs(prof)**2,linewidth = 2)\n",
    "plt.ylabel('Mode profile (a.u), intensity')\n",
    "plt.show()\n"
   ]
  },
  {
   "cell_type": "markdown",
   "id": "6f895edf",
   "metadata": {},
   "source": [
    "## Coupled dielectric waveguides\n",
    "\n",
    "Now, we will study quickly two coupled dielectric waaveguides, just for fun, because the modes are nice. First, as is obvious from the values of the effective index, the modes go in pair (a symetric and an antisymetric mode). Here, we had to increase the number of starting points for the steepest descent to 80, in order not to miss any mode.\n"
   ]
  },
  {
   "cell_type": "code",
   "execution_count": null,
   "id": "925ccfe8",
   "metadata": {},
   "outputs": [],
   "source": [
    "coupled = Structure([1.,2.25],[0,1,0,1,0],[200,1200,300,1200,300])\n",
    "modes = Guided_modes(coupled,wavelength,0,1.00,1.6,initial_points = 80)\n",
    "for k_x in modes:\n",
    "    print(k_x)"
   ]
  },
  {
   "cell_type": "markdown",
   "id": "8150f2b8",
   "metadata": {},
   "source": [
    "Now that we are sure we have all the modes, let's represent them :"
   ]
  },
  {
   "cell_type": "code",
   "execution_count": null,
   "id": "5cbbcb25",
   "metadata": {},
   "outputs": [],
   "source": [
    "for k in range(len(modes)):\n",
    "    x,prof = Profile(coupled,modes[k],wavelength,0)\n",
    "    plt.plot(x,np.real(prof),linewidth = 1)\n",
    "plt.ylabel('Mode profile (a.u)')\n",
    "plt.xlabel('Position (nm)')\n",
    "plt.show()\n"
   ]
  },
  {
   "cell_type": "markdown",
   "id": "31ca70db",
   "metadata": {},
   "source": [
    "## Surface plasmon\n",
    "\n",
    "An emblematic guided mode is the \"surface plasmon\" or sometimes \"surface plasmon polariton\". We will keep the \"surface plasmon\" denomination, because this kind of surface wave propagating at the surface of a metal is not a plasmon, strictly speaking and even less a polariton. The problem for PyMoosh is that it assumes that there is more than just one interface in the structure. You thus have to invent one, in the middle of nowhere. Here, we add one in the silver after 0 nm. Not that we are in TM polarization here."
   ]
  },
  {
   "cell_type": "code",
   "execution_count": null,
   "id": "90c953f4",
   "metadata": {},
   "outputs": [],
   "source": [
    "metallic_interface = Structure([1.,'Gold'],[0,1,1],[1000,0,100])\n",
    "wavelength = 600\n",
    "modes = Guided_modes(metallic_interface,wavelength,1,1.000,1.3)\n",
    "print(modes)"
   ]
  },
  {
   "cell_type": "code",
   "execution_count": null,
   "id": "6c33a576",
   "metadata": {},
   "outputs": [],
   "source": [
    "x,prof = Profile(metallic_interface,modes[0],wavelength,1)\n",
    "plt.plot(x,np.abs(prof)**2,linewidth = 2)\n",
    "plt.ylabel('Mode profile (a.u), intensity')\n",
    "plt.xlabel('Position (nm)')\n",
    "plt.show()\n"
   ]
  },
  {
   "cell_type": "markdown",
   "id": "b86c2bdb",
   "metadata": {},
   "source": [
    "As you can see, the effective index of the surface plasmon is not very high. Which is a pity, because this means there will not be much miniaturization to expect from surface plasmon based cavities. We can try with a gap-plasmon...\n",
    "\n",
    "## Gap-plasmon\n",
    "\n",
    "More challenging, we will now try to find the mode (it's unique) which is able to propagate in a nanometric space between two metallic regions. In this regime, the mode propagates almost more inside the metal than in the dielectric. As a consequence, it is slowed down by the metal (the Poynting vector is negative inside the metal and the mean Poynting vector is in fact linked to the group velocity). While there is air in the gap, the effective index of the mode can go much higher than in any dielectric material. "
   ]
  },
  {
   "cell_type": "code",
   "execution_count": null,
   "id": "934d2af6",
   "metadata": {},
   "outputs": [],
   "source": [
    "gap = Structure([1.,'Gold'],[1,0,1],[50,3,50])\n",
    "wavelength = 600\n",
    "gap_plasmon = steepest(4,1e-12,10000,gap,wavelength,1.)\n",
    "print(gap_plasmon)"
   ]
  },
  {
   "cell_type": "markdown",
   "id": "6dde9775",
   "metadata": {},
   "source": [
    "The effective index is as high as 8, with a massive imaginary part, for a 3 nm wide gap. Which is not much. `Guided_modes` will fail here because its limited number of steps before giving up does not allow it to reach the effective index of the mode. Hence the direct use of the steepest descent with adapted parameters (and a maximum number  of step of 10000). In order to represent the mode correctly, one has to adapt the size of a pixel and take it down to 0.1 nm."
   ]
  },
  {
   "cell_type": "code",
   "execution_count": null,
   "id": "3ba2ed93",
   "metadata": {},
   "outputs": [],
   "source": [
    "x,prof = Profile(gap,gap_plasmon,wavelength,1,pixel_size = 0.1)\n",
    "plt.plot(x,np.real(prof),linewidth = 2)\n"
   ]
  },
  {
   "cell_type": "markdown",
   "id": "4f24438d",
   "metadata": {},
   "source": [
    "## Following the guided modes\n",
    "\n",
    "If we work at a specific wavelength, the above methods are enough to know all we need to know about the guided modes.\n",
    "\n",
    "However, it is often important to know how these modes depend on the incoming light's wavelength. This is what the **follow_guided_modes(...)** function does:"
   ]
  },
  {
   "cell_type": "code",
   "execution_count": null,
   "id": "44e7605a",
   "metadata": {},
   "outputs": [],
   "source": [
    "mat = 1.5\n",
    "materials = [1., mat**2, 2]\n",
    "\n",
    "incidence = 0*np.pi/180\n",
    "\n",
    "structure = np.array([2000, 500])\n",
    "epaisseurs = np.concatenate(([0],structure,[0]))\n",
    "stack = [0,1, 2, 0]\n",
    "\n",
    "wavs = np.linspace(400, 600, 100)\n",
    "neff_min, neff_max = 1., 2.\n",
    "\n",
    "\n",
    "chose = Structure(materials, stack, epaisseurs)\n",
    "\n",
    "indices, follow_modes = follow_guided_modes(chose, wavs, 0, neff_min, neff_max, format=\"n\", plot=True)\n",
    "print(indices)"
   ]
  },
  {
   "cell_type": "code",
   "execution_count": null,
   "id": "0b103e36",
   "metadata": {},
   "outputs": [],
   "source": []
  }
 ],
 "metadata": {
  "kernelspec": {
   "display_name": "Python 3 (ipykernel)",
   "language": "python",
   "name": "python3"
  },
  "language_info": {
   "codemirror_mode": {
    "name": "ipython",
    "version": 3
   },
   "file_extension": ".py",
   "mimetype": "text/x-python",
   "name": "python",
   "nbconvert_exporter": "python",
   "pygments_lexer": "ipython3",
   "version": "3.10.9"
  }
 },
 "nbformat": 4,
 "nbformat_minor": 5
}
