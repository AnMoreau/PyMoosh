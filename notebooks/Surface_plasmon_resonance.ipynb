{
 "cells": [
  {
   "cell_type": "markdown",
   "id": "c6812809",
   "metadata": {},
   "source": [
    "# Surface Plasmon Resonance with PyMoosh\n",
    "\n",
    "In this notebook, we will explore how PyMoosh allows to simulate and understand surface plasmon resonance in the case of a prism coupler. You can do actual research with an apparently so simple program. See [this paper](https://www.dropbox.com/s/r6b2zv2bprzueou/PhysRevA.94.063808.pdf?dl=0). You'll recognize the plots.\n",
    "\n",
    "First a little background. The surface plasmon is a guided mode along the interface between a metal and a dielectric. Its dispersion relation is analytic, and is given by \n",
    "\\begin{equation}\n",
    " k _x = k_0 \\sqrt{\\frac{\\epsilon_m \\epsilon_d}{\\epsilon_m + \\epsilon_d}}\n",
    "\\end{equation}\n",
    "\n",
    "\n",
    "## Otto configuration\n",
    "\n",
    "We first consider the excitation of a surface plasmon using the Otto configuration, which is historically the first one to have been experimentally achieved. "
   ]
  },
  {
   "cell_type": "code",
   "execution_count": 1,
   "id": "1e403cd0",
   "metadata": {},
   "outputs": [
    {
     "name": "stdout",
     "output_type": "stream",
     "text": [
      "List of materials:\n",
      "Simple, non dispersive: epsilon= 1.0\n",
      "Database material: Gold, model: Brendel Bormann\n",
      "Database material: Water, model: Exp Data\n",
      "Simple, non dispersive: epsilon= 2.1315999999999997\n",
      "Simple, non dispersive: epsilon= 2.8899999999999997\n"
     ]
    }
   ],
   "source": [
    "from PyMoosh import *\n",
    "import matplotlib.pyplot as plt\n",
    "plt.rcParams['figure.dpi'] = 150\n",
    "\n",
    "wavelength = 600\n",
    "otto = Structure([1.,'Gold','Water',1.46**2,1.7**2],[4,0,1],[1000,400,200])"
   ]
  },
  {
   "cell_type": "markdown",
   "id": "5df58fe4",
   "metadata": {},
   "source": [
    "We can, thanks to the formula above, compute the effective index of the surface plasmon, $n_\\text{eff} = \\frac{k_x}{k_0}$ and then the corresponding incidence angle $\\theta$, using the formula $$ n \\sin \\theta = n_\\text{eff},$$ \n",
    "\n",
    "where $n = 1.7$. This means that the evanescent wave generate by the prism will have the same periodicitiy along the interface as the surface plasmon, allowing for it to be excited. "
   ]
  },
  {
   "cell_type": "code",
   "execution_count": 2,
   "id": "de1a900a",
   "metadata": {},
   "outputs": [
    {
     "name": "stdout",
     "output_type": "stream",
     "text": [
      "(1.0629502930881012+0.011545733508350298j)\n",
      "38.701631456872285\n"
     ]
    }
   ],
   "source": [
    "epsilon_m = otto.materials[1].get_permittivity(600)\n",
    "n_eff =  np.sqrt(epsilon_m /(1+epsilon_m)) \n",
    "print(n_eff)\n",
    "print(asin(np.real(n_eff)/1.7)/np.pi*180)"
   ]
  },
  {
   "cell_type": "markdown",
   "id": "a8c71a2c",
   "metadata": {},
   "source": [
    "Now we plot the reflectance of the structure and can see that there is actually a dip in the reflectance right at the computed angle. This is the surface plasmon, which, when excited, leads to a lot of losses in the structure."
   ]
  },
  {
   "cell_type": "code",
   "execution_count": 3,
   "id": "aefbe63f",
   "metadata": {},
   "outputs": [
    {
     "ename": "NameError",
     "evalue": "name 'angular' is not defined",
     "output_type": "error",
     "traceback": [
      "\u001b[0;31m---------------------------------------------------------------------------\u001b[0m",
      "\u001b[0;31mNameError\u001b[0m                                 Traceback (most recent call last)",
      "Cell \u001b[0;32mIn[3], line 2\u001b[0m\n\u001b[1;32m      1\u001b[0m wavelength \u001b[38;5;241m=\u001b[39m \u001b[38;5;241m600\u001b[39m\n\u001b[0;32m----> 2\u001b[0m incidence,r,t,R,T\u001b[38;5;241m=\u001b[39m\u001b[43mangular\u001b[49m(otto,wavelength,\u001b[38;5;241m1.\u001b[39m,\u001b[38;5;241m0.\u001b[39m,\u001b[38;5;241m80.\u001b[39m,\u001b[38;5;241m400\u001b[39m)\n\u001b[1;32m      3\u001b[0m plt\u001b[38;5;241m.\u001b[39mplot(incidence,R)\n\u001b[1;32m      4\u001b[0m plt\u001b[38;5;241m.\u001b[39mshow()\n",
      "\u001b[0;31mNameError\u001b[0m: name 'angular' is not defined"
     ]
    }
   ],
   "source": [
    "wavelength = 600\n",
    "incidence,r,t,R,T=angular(otto,wavelength,1.,0.,80.,400)\n",
    "plt.plot(incidence,R)\n",
    "plt.show()\n"
   ]
  },
  {
   "cell_type": "code",
   "execution_count": null,
   "id": "a6159186",
   "metadata": {},
   "outputs": [],
   "source": [
    "window = Window(70*wavelength,0.4,10.,10.)\n",
    "beam = Beam(wavelength,38.7/180*np.pi,1,10*wavelength)\n",
    "E=field(otto,beam,window)\n",
    "plt.figure(2)\n",
    "plt.imshow(abs(E),cmap='jet',extent=[0,window.width,0,sum(otto.thickness)],aspect='auto')\n",
    "plt.colorbar()"
   ]
  },
  {
   "cell_type": "markdown",
   "id": "f9005436",
   "metadata": {},
   "source": [
    "The surface plasmon does not propagate very far, due to losses. But the resonance at the surface of the metallic plane is obvious. The resonance may shift when the prism is closer to the metallic surface because this perturbs the mode.\n",
    "\n",
    "## Krestschman Raether configuration\n",
    "\n",
    "The Krestschmann Raether configuration is obtained by interverting metal and air, essentially. The huge advantage is that the "
   ]
  },
  {
   "cell_type": "code",
   "execution_count": null,
   "id": "c459f305",
   "metadata": {},
   "outputs": [],
   "source": [
    "kr = Structure([1.,'Gold','Water',1.46**2,1.7**2],[4,1,0],[500,40,500])\n",
    "incidence,r,t,R,T=angular(kr,wavelength,1.,0.,80.,400)\n",
    "plt.plot(incidence,R)\n",
    "plt.show()\n"
   ]
  },
  {
   "cell_type": "markdown",
   "id": "b23fc350",
   "metadata": {},
   "source": [
    "Now it is possible to see that below 35° the gold film being somewhat transparent, the reflection is not that high. Around 35° is the total internal reflection, for $k_x = k_0$. Then, when $k_x = n_\\text{eff} k_0$, for a slightly larger incidence angle, a resonance occurs. The surface plasmon is excited through the metal on the metal-air surface. We can have a look at the field map, again.\n"
   ]
  },
  {
   "cell_type": "code",
   "execution_count": null,
   "id": "376f1b70",
   "metadata": {},
   "outputs": [],
   "source": [
    "window = Window(70*wavelength,0.4,5.,5.)\n",
    "E=field(kr,beam,window)\n",
    "plt.figure(2)\n",
    "plt.imshow(abs(E),cmap='jet',extent=[0,window.width,0,sum(kr.thickness)],aspect='auto')    \n",
    "plt.colorbar()"
   ]
  },
  {
   "cell_type": "markdown",
   "id": "9ecefd76",
   "metadata": {},
   "source": [
    "We will now include a thin layer of organic material below the metallic film, and put everything in contact with water. This is what occurs when molecules of interest bind themselves to the gold film (usually functionalized) and form a film with a slightly larger refractive index than water (1.46 instead of 1.33 typically). The surface plasmon resonance will then shift. "
   ]
  },
  {
   "cell_type": "code",
   "execution_count": null,
   "id": "0ef7fd36",
   "metadata": {},
   "outputs": [],
   "source": [
    "h = np.linspace(0.,20.,8)\n",
    "for thickness in h :\n",
    "    kr = Structure([1.,'Gold','Water',1.46**2,1.7**2],[4,1,3,2],[500,40,thickness,500-thickness],verbose = False)\n",
    "    incidence,r,t,R,T=angular(kr,wavelength,1.,50.,80.,400)\n",
    "    plt.plot(incidence,R)\n",
    "plt.show()\n"
   ]
  }
 ],
 "metadata": {
  "kernelspec": {
   "display_name": "Python 3 (ipykernel)",
   "language": "python",
   "name": "python3"
  },
  "language_info": {
   "codemirror_mode": {
    "name": "ipython",
    "version": 3
   },
   "file_extension": ".py",
   "mimetype": "text/x-python",
   "name": "python",
   "nbconvert_exporter": "python",
   "pygments_lexer": "ipython3",
   "version": "3.10.9"
  }
 },
 "nbformat": 4,
 "nbformat_minor": 5
}
