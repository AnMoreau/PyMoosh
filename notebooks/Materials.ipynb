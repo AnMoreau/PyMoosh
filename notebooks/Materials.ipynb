{
 "cells": [
  {
   "cell_type": "markdown",
   "id": "f755c1ea",
   "metadata": {},
   "source": [
    "# Materials\n",
    "\n",
    "In PyMoosh, the part dealing with materials can be considered almost independant, and can easily be re-used in other programs -- especially the database. \n",
    "\n",
    "Here we show a little bit how this works and what you can do with it. \n",
    "\n",
    "In order to make things simple for the user, when a Structure is defined the informations which are given are used to generate an object which belongs to the `Material` class."
   ]
  },
  {
   "cell_type": "code",
   "execution_count": 1,
   "id": "9a80d35c",
   "metadata": {},
   "outputs": [],
   "source": [
    "# Need to modify the path to be able to import PyMoosh :: you don't need to do that if PyMoosh.py is in the same\n",
    "# directory as your Notebook.\n",
    "import sys\n",
    "import os\n",
    "module_path = os.path.abspath(os.path.join('..'))\n",
    "sys.path.append(module_path+\"/code\")\n",
    "from materials import *\n",
    "from PyMoosh import *\n",
    "\n",
    "air = Material(1.)"
   ]
  },
  {
   "cell_type": "markdown",
   "id": "07db64bb",
   "metadata": {},
   "source": [
    "`air`is thus a material, which means you can access its permittivity and permeability easily..."
   ]
  },
  {
   "cell_type": "code",
   "execution_count": 2,
   "id": "a9ab5d29",
   "metadata": {},
   "outputs": [
    {
     "name": "stdout",
     "output_type": "stream",
     "text": [
      "epsilon =  1.0 \n",
      "mu = 1.0\n"
     ]
    }
   ],
   "source": [
    "# Wavelength in nanometer\n",
    "wavelength = 600\n",
    "epsilon = air.get_permittivity(wavelength)\n",
    "mu = air.get_permeability(wavelength)\n",
    "print(\"epsilon = \",epsilon,\"\\nmu =\",mu)"
   ]
  },
  {
   "cell_type": "code",
   "execution_count": null,
   "id": "a54d9372",
   "metadata": {},
   "outputs": [],
   "source": []
  },
  {
   "cell_type": "code",
   "execution_count": null,
   "id": "4b42c884",
   "metadata": {},
   "outputs": [],
   "source": [
    "Or modify its properties "
   ]
  },
  {
   "cell_type": "code",
   "execution_count": null,
   "id": "53d1c1e4",
   "metadata": {},
   "outputs": [],
   "source": []
  },
  {
   "cell_type": "markdown",
   "id": "5ae35eab",
   "metadata": {},
   "source": [
    "This was easy. Now we can declare another material but may want to specify its permeability, because it is different from one. It is still a non-dispersive material which we could call `metamaterial` for instance. "
   ]
  },
  {
   "cell_type": "code",
   "execution_count": 3,
   "id": "b3bcff09",
   "metadata": {},
   "outputs": [
    {
     "name": "stdout",
     "output_type": "stream",
     "text": [
      "epsilon =  -1.0 \n",
      "mu = -2.0\n"
     ]
    }
   ],
   "source": [
    "metamaterial = MagneticND(-1.,-2.)\n",
    "epsilon = metamaterial.get_permittivity(wavelength)\n",
    "mu = metamaterial.get_permeability(wavelength)\n",
    "print(\"epsilon = \",epsilon,\"\\nmu =\",mu)"
   ]
  },
  {
   "cell_type": "markdown",
   "id": "e9ebcf5a",
   "metadata": {},
   "source": [
    "Now, you may want to be able to define a material, like an ideal metal which has a permittivity described by a simple Drude model. Well, the Drude model is not implemented yet, but it's a good idea. You can still always do this, if the plasma wavelength is 125 nm (typically the case for gold and silver) : "
   ]
  },
  {
   "cell_type": "code",
   "execution_count": 4,
   "id": "cf6c1c19",
   "metadata": {},
   "outputs": [],
   "source": [
    "def drude(wavelength):\n",
    "    return 1 - wavelength**2 / 125 **2"
   ]
  },
  {
   "cell_type": "markdown",
   "id": "b7cc472f",
   "metadata": {},
   "source": [
    "And then define a material using the class `CustomFunction` which is exactly meant for such a case (but where the permeability is assumed to be unity). You can check that in this case the material is dispersive. "
   ]
  },
  {
   "cell_type": "code",
   "execution_count": 5,
   "id": "f7c119ae",
   "metadata": {},
   "outputs": [
    {
     "name": "stdout",
     "output_type": "stream",
     "text": [
      "epsilon =  -9.24 \n",
      "mu = 1.0\n"
     ]
    }
   ],
   "source": [
    "metal = CustomFunction(drude)\n",
    "wavelength = 400\n",
    "epsilon = metal.get_permittivity(wavelength)\n",
    "mu = metal.get_permeability(wavelength)\n",
    "print(\"epsilon = \",epsilon,\"\\nmu =\",mu)"
   ]
  },
  {
   "cell_type": "markdown",
   "id": "7d981b3d",
   "metadata": {},
   "source": [
    "And look, it is still a material, because if you ask : "
   ]
  },
  {
   "cell_type": "code",
   "execution_count": 6,
   "id": "138d9a30",
   "metadata": {},
   "outputs": [
    {
     "data": {
      "text/plain": [
       "True"
      ]
     },
     "execution_count": 6,
     "metadata": {},
     "output_type": "execute_result"
    }
   ],
   "source": [
    "issubclass(metal.__class__,Material)"
   ]
  },
  {
   "cell_type": "markdown",
   "id": "aca5d370",
   "metadata": {},
   "source": [
    "Any of those materials can be provided to declare a class `Structure`, it will be used as is. \n",
    "\n",
    "If you have actual data, a list of wavelengths and a list of corresponding permittivities, you can define a material which corresponds to that too, thanks to the `ExpData` class (yes, we assume it is because you have experimental data). "
   ]
  },
  {
   "cell_type": "code",
   "execution_count": 7,
   "id": "b5bc8749",
   "metadata": {},
   "outputs": [
    {
     "name": "stdout",
     "output_type": "stream",
     "text": [
      "The interpolation provides : \n",
      "epsilon =  (-15.000391796755434+0j) \n",
      "mu = 1.0\n",
      "Drude model provides : epsilon = -15.0\n"
     ]
    }
   ],
   "source": [
    "import numpy as np \n",
    "wavelength_list = np.linspace(300,800,100)\n",
    "# Let us use our Drude model declared above to generate the corresponding permittivities :\n",
    "permittivities = drude(wavelength_list)\n",
    "metal2 = ExpData(wavelength_list,permittivities)\n",
    "\n",
    "wavelength  = 500\n",
    "epsilon = metal2.get_permittivity(wavelength)\n",
    "mu = metal2.get_permeability(wavelength)\n",
    "print(\"The interpolation provides : \\nepsilon = \",epsilon,\"\\nmu =\",mu)\n",
    "print(\"Drude model provides : epsilon =\",metal.get_permittivity(500))"
   ]
  },
  {
   "cell_type": "markdown",
   "id": "b46c54ef",
   "metadata": {},
   "source": [
    "As you can see, the values are not exactly the same. First for experimental data, it is always assumed epsilon is complex. Then, it is an interpolation between experimental points, so this is not as accurate as an analytic formula."
   ]
  },
  {
   "cell_type": "code",
   "execution_count": 8,
   "id": "d7884f15",
   "metadata": {},
   "outputs": [
    {
     "name": "stdout",
     "output_type": "stream",
     "text": [
      "List of materials:\n",
      "Object: Material\n",
      "Object: MagneticND\n",
      "Object: CustomFunction\n",
      "Object: ExpData\n"
     ]
    }
   ],
   "source": [
    "list_of_materials = [air,metamaterial,metal,metal2]\n",
    "multilayer = Structure(list_of_materials,[0,1],[100,100])\n"
   ]
  },
  {
   "cell_type": "markdown",
   "id": "63ef24b9",
   "metadata": {},
   "source": [
    "If you nedd, you can modify the list of materials, but since Structure makes sure it is a list of objects, you have to insert or modify the material objects directly. \n"
   ]
  },
  {
   "cell_type": "code",
   "execution_count": 16,
   "id": "afc7cfe2",
   "metadata": {},
   "outputs": [
    {
     "name": "stdout",
     "output_type": "stream",
     "text": [
      "[<materials.Material object at 0x7f43a00cd390>, <materials.MagneticND object at 0x7f43a00cd2b0>, <materials.CustomFunction object at 0x7f42ac166470>, <materials.ExpData object at 0x7f42a7a09278>, <materials.Material object at 0x7f42a79eca90>, <materials.Material object at 0x7f42a79ece48>, <materials.Material object at 0x7f42a79ecda0>, <materials.Material object at 0x7f43a0110320>, <materials.Material object at 0x7f42a7a092e8>]\n"
     ]
    }
   ],
   "source": [
    "new_material = Material(2.)\n",
    "multilayer.materials.append(new_material)\n",
    "print(multilayer.materials)\n",
    "\n"
   ]
  },
  {
   "cell_type": "code",
   "execution_count": 17,
   "id": "c0cd48f6",
   "metadata": {},
   "outputs": [],
   "source": [
    "multilayer.materials[0].permittivity = 1.3\n"
   ]
  },
  {
   "cell_type": "code",
   "execution_count": null,
   "id": "699f1171",
   "metadata": {},
   "outputs": [],
   "source": []
  }
 ],
 "metadata": {
  "kernelspec": {
   "display_name": "Python 3",
   "language": "python",
   "name": "python3"
  },
  "language_info": {
   "codemirror_mode": {
    "name": "ipython",
    "version": 3
   },
   "file_extension": ".py",
   "mimetype": "text/x-python",
   "name": "python",
   "nbconvert_exporter": "python",
   "pygments_lexer": "ipython3",
   "version": "3.8.10"
  }
 },
 "nbformat": 4,
 "nbformat_minor": 5
}
