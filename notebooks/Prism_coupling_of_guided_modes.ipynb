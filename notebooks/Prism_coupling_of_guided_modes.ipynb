{
 "cells": [
  {
   "cell_type": "markdown",
   "id": "6da4dd1d",
   "metadata": {},
   "source": [
    "# Prism coupling\n",
    "\n",
    "As seen in a previous notebook on total internal reflection, when such a reflection occurs an evanescent wave is generated below the superstrate (which we will call the \"prism\" here). Total internal reflection is thus a way to generate an evanescent wave. This evanescent wave can then be used to excite any guided mode.\n",
    "\n",
    "We first consider the excitation of a dielectric waveguide of thickness 500 nm. The prism (refractive index 1.5, just as the waveguide) is placed above the dielectric layer. We compute the reflectance of the whole structure to find at which angle to excite the guided mode. "
   ]
  },
  {
   "cell_type": "code",
   "execution_count": 1,
   "id": "ef20d377",
   "metadata": {},
   "outputs": [
    {
     "name": "stdout",
     "output_type": "stream",
     "text": [
      "List of materials:\n",
      "Simple, non dispersive: epsilon= 1.0\n",
      "Simple, non dispersive: epsilon= 2.25\n"
     ]
    },
    {
     "ename": "NameError",
     "evalue": "name 'angular' is not defined",
     "output_type": "error",
     "traceback": [
      "\u001b[0;31m---------------------------------------------------------------------------\u001b[0m",
      "\u001b[0;31mNameError\u001b[0m                                 Traceback (most recent call last)",
      "Cell \u001b[0;32mIn[1], line 7\u001b[0m\n\u001b[1;32m      5\u001b[0m wl \u001b[38;5;241m=\u001b[39m \u001b[38;5;241m600\u001b[39m\n\u001b[1;32m      6\u001b[0m prism_coupler \u001b[38;5;241m=\u001b[39m Structure([\u001b[38;5;241m1.\u001b[39m,\u001b[38;5;241m2.25\u001b[39m],[\u001b[38;5;241m1\u001b[39m,\u001b[38;5;241m0\u001b[39m,\u001b[38;5;241m1\u001b[39m,\u001b[38;5;241m0\u001b[39m],[\u001b[38;5;241m1000\u001b[39m,\u001b[38;5;241m180\u001b[39m,\u001b[38;5;241m500\u001b[39m,\u001b[38;5;241m300\u001b[39m])\n\u001b[0;32m----> 7\u001b[0m incidence,r,t,R,T \u001b[38;5;241m=\u001b[39m \u001b[43mangular\u001b[49m(prism_coupler,wl,\u001b[38;5;241m0\u001b[39m,\u001b[38;5;241m0.\u001b[39m,\u001b[38;5;241m90.\u001b[39m,\u001b[38;5;241m400\u001b[39m)\n\u001b[1;32m      8\u001b[0m plt\u001b[38;5;241m.\u001b[39mplot(incidence,R)\n\u001b[1;32m      9\u001b[0m plt\u001b[38;5;241m.\u001b[39mshow()\n",
      "\u001b[0;31mNameError\u001b[0m: name 'angular' is not defined"
     ]
    }
   ],
   "source": [
    "from PyMoosh import *\n",
    "import matplotlib.pyplot as plt\n",
    "plt.rcParams['figure.dpi'] = 150\n",
    "\n",
    "wl = 600\n",
    "prism_coupler = Structure([1.,2.25],[1,0,1,0],[1000,180,500,300])\n",
    "incidence,r,t,R,T = angular(prism_coupler,wl,0,0.,90.,400)\n",
    "plt.plot(incidence,R)\n",
    "plt.show()\n",
    "asin(1/1.5)*180/pi"
   ]
  },
  {
   "cell_type": "markdown",
   "id": "319b7f48",
   "metadata": {},
   "source": [
    "However, above the critical angle of 41.81°, not variation of the reflectance can be seen which would indicate the excitation of a guided mode. It is more relevant to consider the phase in that case, because the derivative of the phase $\\phi$ with respect to $k_x = n k_0 \\sin \\theta$ is linked to the lateral shift of an incident beam : \n",
    "\\begin{equation}\n",
    "\\delta = -\\frac{d\\,\\phi}{d\\, k_x} = -\\frac{1}{n k_0 \\cos \\theta} \\frac{d\\phi}{d\\theta}\n",
    "\\end{equation}"
   ]
  },
  {
   "cell_type": "code",
   "execution_count": null,
   "id": "4844668e",
   "metadata": {},
   "outputs": [],
   "source": [
    "incidence,r,t,R,T = angular(prism_coupler,wl,0,42,80,10000)\n",
    "plt.plot(incidence,np.angle(r))\n",
    "plt.show()\n"
   ]
  },
  {
   "cell_type": "markdown",
   "id": "8ecff2a5",
   "metadata": {},
   "source": [
    "There are obviously two guided modes. The second one is less easy to excite, due to a large wavevector. But we can try to see what occurs around 55°, for the first guided mode. It is actually not the fundamental, but the first harmonic: it presents two lobes.\n"
   ]
  },
  {
   "cell_type": "code",
   "execution_count": null,
   "id": "2b3b55d6",
   "metadata": {},
   "outputs": [],
   "source": [
    "domain = Window(150*wl,0.1,30.,10.)\n",
    "beam = Beam(wl,55/180*np.pi,0,10*wl)\n",
    "E = field(prism_coupler,beam,domain)\n",
    "plt.figure(2)\n",
    "plt.imshow(abs(E),cmap='jet',extent=[0,domain.width,0,sum(prism_coupler.thickness)],aspect='auto')\n",
    "plt.colorbar()"
   ]
  },
  {
   "cell_type": "markdown",
   "id": "e95178bb",
   "metadata": {},
   "source": [
    "## Coupled waveguides and cross-talk / Rabi oscillations"
   ]
  },
  {
   "cell_type": "code",
   "execution_count": null,
   "id": "c3f0e1da",
   "metadata": {},
   "outputs": [],
   "source": [
    "coupled = Structure([1.,2.25],[1,0,1,0,1,0],[1000,200,500,300,500,300])"
   ]
  },
  {
   "cell_type": "code",
   "execution_count": null,
   "id": "3d4ec881",
   "metadata": {},
   "outputs": [],
   "source": [
    "domain = Window(250*wl,0.1,30.,10.)\n",
    "E = field(coupled,beam,domain)\n",
    "plt.figure(2)\n",
    "plt.imshow(abs(E),cmap='jet',extent=[0,domain.width,0,sum(coupled.thickness)],aspect='auto')\n",
    "plt.colorbar()"
   ]
  },
  {
   "cell_type": "markdown",
   "id": "93b726b9",
   "metadata": {},
   "source": [
    "What we are seeing is the guided mode in the upper waveguide being transferred to the second one by evanescent coupling (tunneling if you like) and then back in the upper waveguide where is leaks in the prism. Since it leaks only half of the time, light propagates further than when only one waveguide is present. This is an exotic non-specular effect, as [described in this paper](https://www.dropbox.com/s/l8h9v1eka44ik70/Non_Specular-JEOS.pdf?dl=0)"
   ]
  },
  {
   "cell_type": "code",
   "execution_count": null,
   "id": "8bfdb5b8",
   "metadata": {},
   "outputs": [],
   "source": []
  }
 ],
 "metadata": {
  "kernelspec": {
   "display_name": "Python 3 (ipykernel)",
   "language": "python",
   "name": "python3"
  },
  "language_info": {
   "codemirror_mode": {
    "name": "ipython",
    "version": 3
   },
   "file_extension": ".py",
   "mimetype": "text/x-python",
   "name": "python",
   "nbconvert_exporter": "python",
   "pygments_lexer": "ipython3",
   "version": "3.10.9"
  }
 },
 "nbformat": 4,
 "nbformat_minor": 5
}
