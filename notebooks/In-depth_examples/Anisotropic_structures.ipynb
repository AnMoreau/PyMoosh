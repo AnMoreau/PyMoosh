{
 "cells": [
  {
   "cell_type": "markdown",
   "metadata": {},
   "source": [
    "# Working with anisotropic materials"
   ]
  },
  {
   "cell_type": "code",
   "execution_count": 1,
   "metadata": {},
   "outputs": [
    {
     "name": "stderr",
     "output_type": "stream",
     "text": [
      "/home/denis/.local/lib/python3.10/site-packages/matplotlib/projections/__init__.py:63: UserWarning: Unable to import Axes3D. This may be due to multiple versions of Matplotlib being installed (e.g. as a system package and as a pip package). As a result, the 3D projection is not available.\n",
      "  warnings.warn(\"Unable to import Axes3D. This may be due to multiple versions of \"\n"
     ]
    }
   ],
   "source": [
    "import numpy as np\n",
    "import PyMoosh as PM\n",
    "import PyMoosh.anisotropic as ani\n",
    "from numpy import linalg as la_np\n"
   ]
  },
  {
   "cell_type": "markdown",
   "metadata": {},
   "source": [
    "## Defining variables\n",
    "\n",
    "As usual, we will need a few general variables to define the situation: incident wavelength and angle.\n",
    "\n",
    "We do not need the polarisation because **the anisotropic functions take into account both polarisations** and all possible couplins (p -> p, p -> s, s -> p, s -> s)"
   ]
  },
  {
   "cell_type": "code",
   "execution_count": 2,
   "metadata": {},
   "outputs": [],
   "source": [
    "wl_nm = 640\n",
    "theta_in_rad = np.pi/4 # Incidence angle"
   ]
  },
  {
   "cell_type": "markdown",
   "metadata": {},
   "source": [
    "## Anisotropic materials\n",
    "An anisotropic material is either defined by a list of optical indices (the different axes) or by a link to the RefractiveIndex Database (see `How_materials_work`).\n",
    "\n",
    "Its relative orientation in the structure is now defined by a rotation angle (in rad) around a given rotation axis.\n",
    "By default,\n",
    "- `z` is the propagation axis (normal to the interfaces)\n",
    "- `x` is the axis so that (xOz) is the plane of incidence\n",
    "- `y` is the invariance axis\n",
    "\n",
    "One can use these axes as strings, or define an axis in the [x, y, z] coordinates"
   ]
  },
  {
   "cell_type": "code",
   "execution_count": 3,
   "metadata": {},
   "outputs": [],
   "source": [
    "perm_1 = 1.2\n",
    "perm_2 = 2.2\n",
    "\n",
    "opt_ind = [perm_1, perm_2, perm_2] # uniaxial material, 2 permittivities only\n",
    "mat_1=ani.AniMaterial(opt_ind, specialType=\"ANI\")\n",
    "\n",
    "rot_axis1 = 'x'\n",
    "rot_angle1 = 0.5\n",
    "rot_axis2 = [0, 1, 1]\n",
    "rot_angle2 = -0.2"
   ]
  },
  {
   "cell_type": "markdown",
   "metadata": {},
   "source": [
    "## Structure\n",
    "\n",
    "All structures must have an isotropic superstrate and substrate, here we use air as both superstrate and substrate.\n",
    "\n",
    "Then the structure definition works like a usual PyMoosh structure, providing a list of material, the order in which they are stacked, and their respective thicknesses.\n",
    "\n",
    "In addition to this, the rotation angles and axes must be provided, with dummy values used for isotropic layers.\n",
    "\n",
    "All this is fed to the `AniStructure` class."
   ]
  },
  {
   "cell_type": "code",
   "execution_count": 4,
   "metadata": {},
   "outputs": [],
   "source": [
    "\n",
    "mat_2=PM.Material(1.0) # regular, Isotropic material (vacuum / air)\n",
    "\n",
    "# Lists!\n",
    "material_list = [mat_1, mat_2] # The materials\n",
    "stack = [1, 0, 0, 1] # Which material when (as in the usual Structure function)\n",
    "thickness = [0, 100, 25, 0] # The thickness of each layer (as in the usual Structure function)\n",
    "ani_rot_angle = [0., rot_angle1, rot_angle2, 0.] # The rotation angle for each layer. MUST be provided for isotropic layers too, will simply be overlooked\n",
    "ani_rot_axis = ['z', rot_axis1, rot_axis2, 'z']  # The rotation axis for each layer. MUST be provided for isotropic layers too, will simply be overlooked\n",
    "\n",
    "\n",
    "structure1 = ani.AniStructure(material_list, stack, thickness, ani_rot_angle, ani_rot_axis, verbose=False)\n"
   ]
  },
  {
   "cell_type": "markdown",
   "metadata": {},
   "source": [
    "Computations are easy!\n",
    "\n",
    "Here we compute for a list of incidence angles (at a given wavelength) and retrieve all reflection and transmission coefficients of the stack.\n",
    "\n",
    "`coefficients_ani` returns: `tpp`,`tps`,`tsp`,`tss`,`rpp`,`rps`,`rsp`,`rss`, in this order\n",
    "\n",
    "As a reminder, **p polarisation is TM** and **s polarisation is TE**"
   ]
  },
  {
   "cell_type": "code",
   "execution_count": 5,
   "metadata": {},
   "outputs": [],
   "source": [
    "\n",
    "thetas = np.linspace(0,80,80)*np.pi/180\n",
    "l_rpp = []\n",
    "l_rps = []\n",
    "l_rsp = []\n",
    "l_rss = []\n",
    "l_tpp = []\n",
    "l_tps = []\n",
    "l_tsp = []\n",
    "l_tss = []\n",
    "\n",
    "\n",
    "for theta_in_rad in thetas:\n",
    "    res = ani.coefficients_ani(structure1, wl_nm, theta_in_rad)\n",
    "    l_tpp.append(res[0])\n",
    "    l_tps.append(res[1])\n",
    "    l_tsp.append(res[2])\n",
    "    l_tss.append(res[3])\n",
    "    l_rpp.append(res[4])\n",
    "    l_rps.append(res[5])\n",
    "    l_rsp.append(res[6])\n",
    "    l_rss.append(res[7])\n"
   ]
  },
  {
   "cell_type": "markdown",
   "metadata": {},
   "source": [
    "Plotting results as usual"
   ]
  },
  {
   "cell_type": "code",
   "execution_count": 6,
   "metadata": {},
   "outputs": [
    {
     "data": {
      "image/png": "[encoded data removed]",
      "text/plain": [
       "<Figure size 432x288 with 4 Axes>"
      ]
     },
     "metadata": {
      "needs_background": "light"
     },
     "output_type": "display_data"
    }
   ],
   "source": [
    "\n",
    "import matplotlib.pyplot as plt\n",
    "plt.subplot(2,2,1)\n",
    "plt.plot(thetas*180/np.pi, np.abs(l_tpp), label='tpp', linestyle='--')\n",
    "plt.plot(thetas*180/np.pi, np.abs(l_tss), label='tss', linestyle='--')\n",
    "plt.legend()\n",
    "\n",
    "plt.subplot(2,2,2)\n",
    "plt.plot(thetas*180/np.pi, np.abs(l_rpp), label='rpp', linestyle='--')\n",
    "plt.plot(thetas*180/np.pi, np.abs(l_rss), label='rss', linestyle='--')\n",
    "plt.legend()\n",
    "\n",
    "plt.subplot(2,2,3)\n",
    "plt.plot(thetas*180/np.pi, np.abs(l_tsp), label='tsp', linestyle='--')\n",
    "plt.plot(thetas*180/np.pi, np.abs(l_tps), label='tps', linestyle='--')\n",
    "plt.legend()\n",
    "\n",
    "plt.subplot(2,2,4)\n",
    "plt.plot(thetas*180/np.pi, np.abs(l_rsp), label='rsp', linestyle='--')\n",
    "plt.plot(thetas*180/np.pi, np.abs(l_rps), label='rps', linestyle='--')\n",
    "plt.legend()\n",
    "plt.show()\n"
   ]
  },
  {
   "cell_type": "markdown",
   "metadata": {},
   "source": [
    "# Dispersive anisotropic structures\n",
    "\n",
    "Now you can even define dispersive anisotropic structures!\n",
    "\n",
    "In this case, each optical index works like the `Model` type of material, i.e. you have to give a list of lists, each containing:\n",
    "- a function\n",
    "- the potential parameters of this function (in addition to the wavelength), if any"
   ]
  },
  {
   "cell_type": "code",
   "execution_count": 7,
   "metadata": {},
   "outputs": [
    {
     "data": {
      "image/png": "[encoded data removed]",
      "text/plain": [
       "<Figure size 432x288 with 4 Axes>"
      ]
     },
     "metadata": {
      "needs_background": "light"
     },
     "output_type": "display_data"
    }
   ],
   "source": [
    "\n",
    "def Lorentz(wav, f, omega, gamma, eps):\n",
    "    \"\"\"\n",
    "        Lorentz model, with lorentzian resonances (elastically bound electrons)\n",
    "        eps is eps_inf, the background permittivity\n",
    "        f, gamma, omega, sigma are the chi_b parameters (Lorentz resonances)\n",
    "        f, gamma, omega, sigma must be lists (np arrays) of the same lengths\n",
    "        They are given in eV (wav in nm)\n",
    "    \"\"\"\n",
    "    w = 2*np.pi*299792458*1e9 / wav\n",
    "    chi = np.sum(f/(omega**2 - w**2 - 1.0j*gamma*w))\n",
    "    return eps + chi\n",
    "\n",
    "perm_1 = [Lorentz, 1, 9, 0.5, 11]\n",
    "perm_2 = [Lorentz, 1, 10, 0.5, 11]\n",
    "\n",
    "opt_ind = [perm_1, perm_2, perm_2] # uniaxial material, 2 permittivities only\n",
    "mat_1=ani.AniMaterial(opt_ind, specialType=\"Model_ANI\")\n",
    "\n",
    "rot_axis1 = 'x'\n",
    "rot_angle1 = 0.5\n",
    "rot_axis2 = [0, 1, 1]\n",
    "rot_angle2 = -0.2\n",
    "\n",
    "mat_2=PM.Material(1.0) # regular, Isotropic material (vacuum / air)\n",
    "\n",
    "# Lists!\n",
    "material_list = [mat_1, mat_2] # The materials\n",
    "stack = [1, 0, 0, 1] # Which material when (as in the usual Structure function)\n",
    "thickness = [0, 100, 25, 0] # The thickness of each layer (as in the usual Structure function)\n",
    "ani_rot_angle = [0., rot_angle1, rot_angle2, 0.] # The rotation angle for each layer. MUST be provided for isotropic layers too, will simply be overlooked\n",
    "ani_rot_axis = ['z', rot_axis1, rot_axis2, 'z']  # The rotation axis for each layer. MUST be provided for isotropic layers too, will simply be overlooked\n",
    "\n",
    "\n",
    "structure1 = ani.AniStructure(material_list, stack, thickness, ani_rot_angle, ani_rot_axis, verbose=False)\n",
    "\n",
    "thetas = np.linspace(0,80,80)*np.pi/180\n",
    "l_rpp = []\n",
    "l_rps = []\n",
    "l_rsp = []\n",
    "l_rss = []\n",
    "l_tpp = []\n",
    "l_tps = []\n",
    "l_tsp = []\n",
    "l_tss = []\n",
    "\n",
    "\n",
    "for theta_in_rad in thetas:\n",
    "    res = ani.coefficients_ani(structure1, wl_nm, theta_in_rad)\n",
    "    l_tpp.append(res[0])\n",
    "    l_tps.append(res[1])\n",
    "    l_tsp.append(res[2])\n",
    "    l_tss.append(res[3])\n",
    "    l_rpp.append(res[4])\n",
    "    l_rps.append(res[5])\n",
    "    l_rsp.append(res[6])\n",
    "    l_rss.append(res[7])\n",
    "\n",
    "\n",
    "plt.subplot(2,2,1)\n",
    "plt.plot(thetas*180/np.pi, np.abs(l_tpp), label='tpp', linestyle='--')\n",
    "plt.plot(thetas*180/np.pi, np.abs(l_tss), label='tss', linestyle='--')\n",
    "plt.legend()\n",
    "\n",
    "plt.subplot(2,2,2)\n",
    "plt.plot(thetas*180/np.pi, np.abs(l_rpp), label='rpp', linestyle='--')\n",
    "plt.plot(thetas*180/np.pi, np.abs(l_rss), label='rss', linestyle='--')\n",
    "plt.legend()\n",
    "\n",
    "plt.subplot(2,2,3)\n",
    "plt.plot(thetas*180/np.pi, np.abs(l_tsp), label='tsp', linestyle='--')\n",
    "plt.plot(thetas*180/np.pi, np.abs(l_tps), label='tps', linestyle='--')\n",
    "plt.legend()\n",
    "\n",
    "plt.subplot(2,2,4)\n",
    "plt.plot(thetas*180/np.pi, np.abs(l_rsp), label='rsp', linestyle='--')\n",
    "plt.plot(thetas*180/np.pi, np.abs(l_rps), label='rps', linestyle='--')\n",
    "plt.legend()\n",
    "plt.show()\n"
   ]
  }
 ],
 "metadata": {
  "kernelspec": {
   "display_name": "Python 3",
   "language": "python",
   "name": "python3"
  },
  "language_info": {
   "codemirror_mode": {
    "name": "ipython",
    "version": 3
   },
   "file_extension": ".py",
   "mimetype": "text/x-python",
   "name": "python",
   "nbconvert_exporter": "python",
   "pygments_lexer": "ipython3",
   "version": "3.10.12"
  }
 },
 "nbformat": 4,
 "nbformat_minor": 2
}
