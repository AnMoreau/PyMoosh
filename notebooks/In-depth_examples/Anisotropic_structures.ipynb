{
 "cells": [
  {
   "cell_type": "markdown",
   "metadata": {},
   "source": [
    "# Working with anisotropic materials"
   ]
  },
  {
   "cell_type": "code",
   "execution_count": 1,
   "metadata": {},
   "outputs": [
    {
     "name": "stdout",
     "output_type": "stream",
     "text": [
      "['/home/denis/Documents/git/PyMoosh/notebooks/In-depth_examples', '/usr/lib/python310.zip', '/usr/lib/python3.10', '/usr/lib/python3.10/lib-dynload', '', '/home/denis/.local/lib/python3.10/site-packages', '/home/denis/Documents/git/PyMoosh', '/usr/local/lib/python3.10/dist-packages', '/usr/lib/python3/dist-packages', '/usr/lib/python3.10/dist-packages', '/usr/lib/python3/dist-packages/IPython/extensions', '/home/denis/.ipython']\n"
     ]
    },
    {
     "name": "stderr",
     "output_type": "stream",
     "text": [
      "/home/denis/.local/lib/python3.10/site-packages/matplotlib/projections/__init__.py:63: UserWarning: Unable to import Axes3D. This may be due to multiple versions of Matplotlib being installed (e.g. as a system package and as a pip package). As a result, the 3D projection is not available.\n",
      "  warnings.warn(\"Unable to import Axes3D. This may be due to multiple versions of \"\n"
     ]
    }
   ],
   "source": [
    "import numpy as np\n",
    "import PyMoosh as PM\n",
    "import PyMoosh.anisotropic as ani\n",
    "from numpy import linalg as la_np\n"
   ]
  },
  {
   "cell_type": "markdown",
   "metadata": {},
   "source": [
    "## Defining variables"
   ]
  },
  {
   "cell_type": "code",
   "execution_count": 2,
   "metadata": {},
   "outputs": [],
   "source": [
    "wl_nm = 640\n",
    "thickness_nm = 100\n",
    "\n",
    "theta_in_rad = np.pi/4 # Incidence angle"
   ]
  },
  {
   "cell_type": "markdown",
   "metadata": {},
   "source": [
    "An anisotropic material is either defined by a list of optical indices (the different axes) or by a link to the RefractiveIndex Database (see `How_materials_work`).\n",
    "\n",
    "Its position in the structure is now defined by a rotation angle around a given rotation axis.\n",
    "By default,\n",
    "- `z` is the propagation axis (normal to the interfaces)\n",
    "- `x` is the axis so that (xOz) is the plane of incidence\n",
    "- `y` is the invariance axis"
   ]
  },
  {
   "cell_type": "code",
   "execution_count": 3,
   "metadata": {},
   "outputs": [],
   "source": [
    "\n",
    "perm_1 = 1.2\n",
    "\n",
    "perm_2 = 2.2\n",
    "\n",
    "\n",
    "opt_ind = [perm_1, perm_2, perm_2] # biaxial material\n",
    "\n",
    "mat_1=ani.AniMaterial(opt_ind, specialType=\"ANI\")\n",
    "\n",
    "mat_2=PM.Material(1.0) # regular, Isotropic material (vacuum / air)\n",
    "\n",
    "# Lists!\n",
    "material_list = [mat_1, mat_2] # The materials\n",
    "stack = [1, 0, 0, 1] # Which material when (as in the usual Structure function)\n",
    "thickness = [0, thickness_nm, 25, 0] # The thickness of each layer (as in the usual Structure function)\n",
    "ani_rot_angle = [0., 0.5,-0.2, 0.] # The rotation angle for each layer. MUST be provided for isotropic layers too, will simply be overlooked\n",
    "ani_rot_axis = ['z', 'x', 'y', 'z']  # The rotation axis for each layer. MUST be provided for isotropic layers too, will simply be overlooked\n",
    "\n",
    "\n",
    "structure1 = ani.AniStructure(material_list, stack, thickness, ani_rot_angle, ani_rot_axis, verbose=False)\n"
   ]
  },
  {
   "cell_type": "markdown",
   "metadata": {},
   "source": [
    "Computations are easy!\n",
    "\n",
    "`coefficients_ani` returns: `tpp`,`tps`,`tsp`,`tss`,`rpp`,`rps`,`rsp`,`rss`, in this order"
   ]
  },
  {
   "cell_type": "code",
   "execution_count": 4,
   "metadata": {},
   "outputs": [],
   "source": [
    "\n",
    "thetas = np.linspace(0,80,80)*np.pi/180\n",
    "l_rpp = []\n",
    "l_rps = []\n",
    "l_rsp = []\n",
    "l_rss = []\n",
    "l_tpp = []\n",
    "l_tps = []\n",
    "l_tsp = []\n",
    "l_tss = []\n",
    "\n",
    "\n",
    "for theta_in_rad in thetas:\n",
    "    res = ani.coefficients_ani(structure1, wl_nm, theta_in_rad)\n",
    "    l_tpp.append(res[0])\n",
    "    l_tps.append(res[1])\n",
    "    l_tsp.append(res[2])\n",
    "    l_tss.append(res[3])\n",
    "    l_rpp.append(res[4])\n",
    "    l_rps.append(res[5])\n",
    "    l_rsp.append(res[6])\n",
    "    l_rss.append(res[7])\n"
   ]
  },
  {
   "cell_type": "markdown",
   "metadata": {},
   "source": [
    "Plotting results"
   ]
  },
  {
   "cell_type": "code",
   "execution_count": 5,
   "metadata": {},
   "outputs": [
    {
     "name": "stderr",
     "output_type": "stream",
     "text": [
      "/home/denis/.local/lib/python3.10/site-packages/matplotlib/cbook.py:1699: ComplexWarning: Casting complex values to real discards the imaginary part\n",
      "  return math.isfinite(val)\n",
      "/home/denis/.local/lib/python3.10/site-packages/matplotlib/cbook.py:1345: ComplexWarning: Casting complex values to real discards the imaginary part\n",
      "  return np.asarray(x, float)\n"
     ]
    },
    {
     "data": {
      "image/png": "[encoded data removed]",
      "text/plain": [
       "<Figure size 432x288 with 4 Axes>"
      ]
     },
     "metadata": {
      "needs_background": "light"
     },
     "output_type": "display_data"
    }
   ],
   "source": [
    "\n",
    "import matplotlib.pyplot as plt\n",
    "plt.subplot(2,2,1)\n",
    "plt.plot(thetas*180/np.pi, l_tpp, label='tpp', linestyle='--')\n",
    "plt.plot(thetas*180/np.pi, l_tss, label='tss', linestyle='--')\n",
    "plt.legend()\n",
    "\n",
    "plt.subplot(2,2,2)\n",
    "plt.plot(thetas*180/np.pi, l_rpp, label='rpp', linestyle='--')\n",
    "plt.plot(thetas*180/np.pi, l_rss, label='rss', linestyle='--')\n",
    "plt.legend()\n",
    "\n",
    "plt.subplot(2,2,3)\n",
    "plt.plot(thetas*180/np.pi, l_tsp, label='tsp', linestyle='--')\n",
    "plt.plot(thetas*180/np.pi, l_tps, label='tps', linestyle='--')\n",
    "plt.legend()\n",
    "\n",
    "plt.subplot(2,2,4)\n",
    "plt.plot(thetas*180/np.pi, l_rsp, label='rsp', linestyle='--')\n",
    "plt.plot(thetas*180/np.pi, l_rps, label='rps', linestyle='--')\n",
    "plt.legend()\n",
    "plt.show()\n"
   ]
  }
 ],
 "metadata": {
  "kernelspec": {
   "display_name": "Python 3",
   "language": "python",
   "name": "python3"
  },
  "language_info": {
   "codemirror_mode": {
    "name": "ipython",
    "version": 3
   },
   "file_extension": ".py",
   "mimetype": "text/x-python",
   "name": "python",
   "nbconvert_exporter": "python",
   "pygments_lexer": "ipython3",
   "version": "3.10.12"
  }
 },
 "nbformat": 4,
 "nbformat_minor": 2
}
