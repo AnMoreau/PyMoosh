{
 "cells": [
  {
   "cell_type": "markdown",
   "id": "d2f7ff7f",
   "metadata": {},
   "source": [
    "# Materials\n",
    "\n",
    "In PyMoosh, the part dealing with materials is a bit specific, to manage all the data necessary for the computations. \n",
    "\n",
    "Here we show a little bit how this works and what you can do with it. \n",
    "\n",
    "In order to make things simple for the user, when a Structure is defined the informations which are given are used to generate an object which belongs to the `Material` class."
   ]
  },
  {
   "cell_type": "code",
   "execution_count": 13,
   "id": "1d54b3d8",
   "metadata": {},
   "outputs": [],
   "source": [
    "from PyMoosh import *\n",
    "\n",
    "air = Material(1.)"
   ]
  },
  {
   "cell_type": "markdown",
   "id": "742a718a",
   "metadata": {},
   "source": [
    "`air`is thus a material, which means you can access its permittivity and permeability easily..."
   ]
  },
  {
   "cell_type": "code",
   "execution_count": 14,
   "id": "f4f14bdb",
   "metadata": {},
   "outputs": [
    {
     "name": "stdout",
     "output_type": "stream",
     "text": [
      "epsilon =  (1+0j) \n",
      "mu = 1.0\n"
     ]
    }
   ],
   "source": [
    "# Wavelength in nanometer\n",
    "wavelength = 600\n",
    "epsilon = air.get_permittivity(wavelength)\n",
    "mu = air.get_permeability(wavelength)\n",
    "print(\"epsilon = \",epsilon,\"\\nmu =\",mu)"
   ]
  },
  {
   "cell_type": "markdown",
   "id": "f8c8e123",
   "metadata": {},
   "source": [
    "This was easy. Now we can declare another material but may want to specify its permeability, because it is different from one. It is still a non-dispersive material which we could call `metamaterial` for instance. It has a magnetic response, but it is not dispersive.\n",
    "\n",
    "To do so, simply give two values to `Material` : `(epsilon, mu)`"
   ]
  },
  {
   "cell_type": "code",
   "execution_count": 15,
   "id": "b4e23fcd",
   "metadata": {},
   "outputs": [
    {
     "name": "stdout",
     "output_type": "stream",
     "text": [
      "epsilon =  -1.0 \n",
      "mu = -2.0\n"
     ]
    }
   ],
   "source": [
    "metamaterial = Material([-1.,-2.])\n",
    "epsilon = metamaterial.get_permittivity(wavelength)\n",
    "mu = metamaterial.get_permeability(wavelength)\n",
    "print(\"epsilon = \",epsilon,\"\\nmu =\",mu)"
   ]
  },
  {
   "cell_type": "markdown",
   "id": "94ab6142",
   "metadata": {},
   "source": [
    "Now, you may want to be able to define a material, like an ideal metal which has a permittivity described by a simple Drude model. What is important, is that the permittivity can be defined by a function that only depends on the wavelength."
   ]
  },
  {
   "cell_type": "code",
   "execution_count": 16,
   "id": "6d37b149",
   "metadata": {},
   "outputs": [],
   "source": [
    "def drude(wavelength):\n",
    "    return 1 - wavelength**2 / 125 **2"
   ]
  },
  {
   "cell_type": "markdown",
   "id": "2322157c",
   "metadata": {},
   "source": [
    "And then define a material by giving a function as an argument to `Material`. You can check that in this case the material is dispersive. "
   ]
  },
  {
   "cell_type": "code",
   "execution_count": 17,
   "id": "775fa323",
   "metadata": {},
   "outputs": [
    {
     "name": "stdout",
     "output_type": "stream",
     "text": [
      "epsilon =  -9.24 \n",
      "mu = 1.0\n"
     ]
    }
   ],
   "source": [
    "metal = Material(drude)\n",
    "wavelength = 400\n",
    "epsilon = metal.get_permittivity(wavelength)\n",
    "mu = metal.get_permeability(wavelength)\n",
    "print(\"epsilon = \",epsilon,\"\\nmu =\",mu)"
   ]
  },
  {
   "cell_type": "markdown",
   "id": "b8bac440",
   "metadata": {},
   "source": [
    "These types, in addition to the simple access to the local database, are the default types for the Material class.\n",
    "\n",
    "**Any of those materials can be provided to declare a class `Structure`, it will be used as is.**"
   ]
  },
  {
   "cell_type": "markdown",
   "id": "54ce10b6",
   "metadata": {},
   "source": [
    "# Models\n",
    "\n",
    "There are several cases where you want to have a more complex function to define your material's permittivity.\n",
    "\n",
    "Many typical such functions (usual models like Drude or Brendel&Bormann, but also experimental data interpolation) can be found in the `model` module.\n",
    "\n",
    "The difference with the simple `drude` functions used above, is now that these functions can take extra parameters.\n",
    "\n",
    "The syntax now is `Material([function, params], specialType=\"Model\")`"
   ]
  },
  {
   "cell_type": "code",
   "execution_count": 18,
   "id": "78880515",
   "metadata": {},
   "outputs": [
    {
     "name": "stdout",
     "output_type": "stream",
     "text": [
      "The interpolation provides : \n",
      "epsilon =  -15.000391796755434 \n",
      "mu = 1.0\n",
      "Drude model provides : epsilon = -15.0\n"
     ]
    }
   ],
   "source": [
    "import numpy as np \n",
    "wavelength_list = np.linspace(300,800,100)\n",
    "# Let us use our Drude model declared above to generate the corresponding permittivities :\n",
    "permittivities = drude(wavelength_list)\n",
    "\n",
    "from PyMoosh.models import ExpData\n",
    "# You can import it directly if you know how it works, or copy/paste the function to your code\n",
    "\n",
    "metal2 = Material([ExpData, wavelength_list, permittivities], specialType=\"Model\")\n",
    "\n",
    "wavelength  = 500\n",
    "epsilon = metal2.get_permittivity(wavelength)\n",
    "mu = metal2.get_permeability(wavelength)\n",
    "print(\"The interpolation provides : \\nepsilon = \",epsilon,\"\\nmu =\",mu)\n",
    "print(\"Drude model provides : epsilon =\",metal.get_permittivity(500))"
   ]
  },
  {
   "cell_type": "markdown",
   "id": "2fe61585",
   "metadata": {},
   "source": [
    "As you can see, the values are not exactly the same. First for experimental data, it is always assumed epsilon is complex. Then, it is an interpolation between experimental points, so this is not as accurate as an analytic formula."
   ]
  },
  {
   "cell_type": "markdown",
   "id": "f9ba3f7a",
   "metadata": {},
   "source": [
    "# Refractive Index Database integration\n",
    "\n",
    "Now, one massively used source of permittivity data is the RefractiveIndex.info database. PyMoosh can interact with it now!\n",
    "\n",
    "Materials in the RII database are stored on shelves (general type of material), then books (material), then page (source of refractive index for this material (experiment/model...).)\n",
    "\n",
    "So the syntax is now `Material([\"shelf\", \"book\", \"page\"], specialType=\"RII\")`"
   ]
  },
  {
   "cell_type": "code",
   "execution_count": 20,
   "id": "7730e743",
   "metadata": {},
   "outputs": [
    {
     "name": "stdout",
     "output_type": "stream",
     "text": [
      "epsilon =  2.0186092372978477\n"
     ]
    }
   ],
   "source": [
    "# Example for SiO2\n",
    "\n",
    "shelf = \"main\"\n",
    "book = \"SiO2\"\n",
    "page = \"Nyakuchena\" #latest to date\n",
    "\n",
    "silica = Material([shelf, book, page], specialType=\"RII\")\n",
    "epsilon = silica.get_permittivity(1500)\n",
    "# Important: The RII database will give off errors if the wavelength is not within\n",
    "# the stored range (no extrapolation is allowed)\n",
    "print(\"epsilon = \",epsilon)\n"
   ]
  }
 ],
 "metadata": {
  "kernelspec": {
   "display_name": "Python 3",
   "language": "python",
   "name": "python3"
  },
  "language_info": {
   "codemirror_mode": {
    "name": "ipython",
    "version": 3
   },
   "file_extension": ".py",
   "mimetype": "text/x-python",
   "name": "python",
   "nbconvert_exporter": "python",
   "pygments_lexer": "ipython3",
   "version": "3.10.12"
  },
  "vscode": {
   "interpreter": {
    "hash": "916dbcbb3f70747c44a77c7bcd40155683ae19c65e1c03b4aa3499c5328201f1"
   }
  }
 },
 "nbformat": 4,
 "nbformat_minor": 5
}
