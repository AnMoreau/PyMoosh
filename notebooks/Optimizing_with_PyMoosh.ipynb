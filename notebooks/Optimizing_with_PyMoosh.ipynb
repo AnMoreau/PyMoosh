{
 "cells": [
  {
   "cell_type": "markdown",
   "metadata": {},
   "source": [
    "# Optimization with PyMoosh\n",
    "\n",
    "Many physical and engineering problems require an optimization phase, in order to find an object or a structure that best fits a given constraint or objective.\n",
    "\n",
    "To this end, the first step is to define the objective the structure must meet or approach. This can be as simple as  maximising or minimising a specific parameter (e.g. reflectivity or transmissivity at a given wavelength), or as complex as angularly separating polarizations or maximizing the amount of energy absorbed in a specific layer of the material.\n",
    "\n",
    "In any case, this definition needs to be written as an **objective function**, that counts the proximity to the objective.\n",
    "\n",
    "In the first example below, we simply want to design a dielectric mirror, so we want to maximise the reflectance on a given range of wavelengths.\n",
    "For this, we will be using the *coefficient(...)* function that returns the reflectivity and transmitivity of a structure."
   ]
  },
  {
   "cell_type": "code",
   "execution_count": 3,
   "metadata": {},
   "outputs": [],
   "source": [
    "import PyMoosh as PM\n",
    "import numpy as np\n",
    "\n",
    "# The spectral range we are interested in\n",
    "wav_beg = 500\n",
    "wav_end = 800\n",
    "nb_wav = 100\n",
    "# The angle of incidence and polarization the structure is intended for\n",
    "angle = 25 * np.pi / 180\n",
    "polar = 0 # 0 for TE, 1 for TM\n",
    "\n",
    "\n",
    "def objective_function(layers, wav_beg=wav_beg, wav_end=wav_end, nb_wav=nb_wav, angle=angle, polar=polar):\n",
    "    \"\"\"\n",
    "    We want to maximise the reflectance of the structure over the whole spectrum\n",
    "    \"\"\"\n",
    "    reflectivity = np.zeros(nb_wav)\n",
    "    wav_list = np.linspace(wav_beg, wav_end, nb_wav)\n",
    "    nb_lay = len(layers)//2\n",
    "    mat = [1, 1.5, 2]\n",
    "    stack = [0] + [1, 2] * nb_lay + [0]\n",
    "    thickness = [0] + layers + [0]\n",
    "    structure = PM.Structure(mat, stack, thickness, verbose=False)\n",
    "    for i, wav in enumerate(wav_list):\n",
    "        r, t, R, T = PM.coefficient(structure, wav, angle, polar)\n",
    "        reflectivity[i] = R\n",
    "    \n",
    "    # Here we have computed all the reflectance spectrum\n",
    "    # we want to maximise it, so we need to compute a value that\n",
    "    # will be smaller when the reflectance is larger\n",
    "    # There's 2 possible ways of doing this:\n",
    "    # maximise the integral of the spectrum\n",
    "    # -> cost = -np.sum(reflectivity)\n",
    "    # maximise the smallest value of the spectrum\n",
    "    # -> cost = 1 - np.min(reflectivity)\n",
    "    \n",
    "    return -np.sum(reflectivity)"
   ]
  },
  {
   "cell_type": "markdown",
   "metadata": {},
   "source": [
    "## Optimization algorithms \n",
    "\n",
    "There are many different optimization algorithms out there. Luckily for you, we selected one that works particularly well for photonics: [Differential Evolution](https://en.wikipedia.org/wiki/Differential_evolution)\n",
    "\n",
    "In its simplest form, it takes 4 arguments:\n",
    "- The **objective function** you wrote\n",
    "- The **budget**, or how many iterations it can make before stopping\n",
    "- The **minimum value** of every parameter, defining the lower bound of parameter space\n",
    "- The **maximum value** of every parameter, defining the upper bound of parameter space\n",
    "\n",
    "It will output 2 values:\n",
    "- The **best structure** in terms of objective function\n",
    "- The **convergence** showing you how the cost of the best structures evolved throughout the algorithm\n",
    "\n",
    "See how it goes:"
   ]
  },
  {
   "cell_type": "code",
   "execution_count": 5,
   "metadata": {},
   "outputs": [
    {
     "ename": "AttributeError",
     "evalue": "module 'PyMoosh' has no attribute 'Differential_Evolution'",
     "output_type": "error",
     "traceback": [
      "\u001b[0;31m---------------------------------------------------------------------------\u001b[0m",
      "\u001b[0;31mAttributeError\u001b[0m                            Traceback (most recent call last)",
      "Cell \u001b[0;32mIn[5], line 10\u001b[0m\n\u001b[1;32m      7\u001b[0m X_min \u001b[38;5;241m=\u001b[39m [min_lay] \u001b[38;5;241m*\u001b[39m nb_layers\n\u001b[1;32m      8\u001b[0m X_max \u001b[38;5;241m=\u001b[39m [max_lay] \u001b[38;5;241m*\u001b[39m nb_layers\n\u001b[0;32m---> 10\u001b[0m best, convergence \u001b[38;5;241m=\u001b[39m \u001b[43mPM\u001b[49m\u001b[38;5;241;43m.\u001b[39;49m\u001b[43mDifferential_Evolution\u001b[49m(objective_function, budget, X_min, X_max)\n",
      "\u001b[0;31mAttributeError\u001b[0m: module 'PyMoosh' has no attribute 'Differential_Evolution'"
     ]
    }
   ],
   "source": [
    "budget = 1000 #\n",
    "\n",
    "nb_layers = 10 # We want a 10-layer Dielectric mirror\n",
    "min_lay = 10 # No layer thinner than 10 nm\n",
    "max_lay = 800 # No layer thicker than 800 nm (the wavelength)\n",
    "\n",
    "X_min = [min_lay] * nb_layers\n",
    "X_max = [max_lay] * nb_layers\n",
    "\n",
    "best, convergence = PM.Differential_Evolution(objective_function, budget, X_min, X_max)"
   ]
  },
  {
   "cell_type": "code",
   "execution_count": null,
   "metadata": {},
   "outputs": [],
   "source": []
  }
 ],
 "metadata": {
  "kernelspec": {
   "display_name": "Python 3 (ipykernel)",
   "language": "python",
   "name": "python3"
  },
  "language_info": {
   "codemirror_mode": {
    "name": "ipython",
    "version": 3
   },
   "file_extension": ".py",
   "mimetype": "text/x-python",
   "name": "python",
   "nbconvert_exporter": "python",
   "pygments_lexer": "ipython3",
   "version": "3.10.9"
  }
 },
 "nbformat": 4,
 "nbformat_minor": 2
}
