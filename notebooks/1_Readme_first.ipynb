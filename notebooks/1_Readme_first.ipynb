{
 "cells": [
  {
   "cell_type": "markdown",
   "id": "95cea8cb",
   "metadata": {},
   "source": [
    "# How PyMoosh works -- illustrated\n",
    "\n",
    "## How to define the structure\n",
    "\n",
    "In PyMoosh, you must first define the structure you want to study (a multilayer), which means defining:\n",
    "\n",
    "- The list of the different materials which compose the structure\n",
    "- The type of material for each layer\n",
    "- The thickness (a priori in nanometers)\n",
    "\n",
    "In PyMoosh, `Structure()` is a class which contains all these informations, making it simple to pass it to different functions.\n",
    "\n",
    "### Defining materials used\n",
    "\n",
    "Here comes an example of a list where the first is air/vacuum with a permittivity of 1., the second has a 2 permittivity and 1.2 permeability, the third is glass and the last one water:\n"
   ]
  },
  {
   "cell_type": "code",
   "execution_count": 1,
   "id": "2ca23a33",
   "metadata": {},
   "outputs": [],
   "source": [
    "# Print existing materials in the pymoosh database excluding CUSTOM material\n",
    "# print(f\"Existing materials {[mat.name for mat in MaterialEnum if mat!=MaterialEnum.CUSTOM]}\")\n",
    "# Define materials list\n",
    "material_list = [1.,[2.,1.2],\"Glass\",\"Water\"]"
   ]
  },
  {
   "cell_type": "markdown",
   "id": "0b3cf14e",
   "metadata": {},
   "source": [
    "The logic for material properties is the following:\n",
    "- If you give only one number (real or complex), it is assumed to be the material's permittivity\n",
    "- If you give an array of two numbers (real or complex), they are assumed to be \\[permittivity, permeability\\]\n",
    "- If you give a string, the programm will later check if it is available in the database, and tell you otherwise\n",
    "- If you give a function, it is assumed it gives the permittivity as a function of the wavelength in nanometers\n",
    "\n",
    "### How the different materials are stacked\n",
    "\n",
    "Now you have to define how the different materials you have declared must be stacked. It requires for you to remember where each material is placed in the list above. This could be a source of error, but allows not to compute unnecessarily the permittivy of dispersive materials.\n",
    "\n",
    ">The first layer is the layer on top (superstrate), then the layer below and so on. Light is assumed to come from the top in PyMoosh.\n",
    "\n",
    "If you want the light to come from air, then meet glass, water and glass again (the substrate),given the previous material definitions, your list should look like this :"
   ]
  },
  {
   "cell_type": "code",
   "execution_count": 2,
   "id": "88364ac2",
   "metadata": {},
   "outputs": [],
   "source": [
    "stack = [0,2,3,2]"
   ]
  },
  {
   "cell_type": "markdown",
   "id": "ef9e1900",
   "metadata": {},
   "source": [
    "### Thickness of the different layers\n",
    "\n",
    "All lengths are assumed to be in nanometers. The thicknesses are stored into a list. \n",
    "\n",
    "> The first element is the thickness of the superstrate, which makes no sense, as the superstrate is infinite and truly considered as infinite physically. This thickness intervenes only when the field is visualized. It is the same with the substrate. You can put these to zero if you have no intention of computing the field but are only interested in the reflection/transmission coefficients.\n",
    "\n",
    "The list could look like that:\n",
    "\n",
    "\n"
   ]
  },
  {
   "cell_type": "code",
   "execution_count": 3,
   "id": "189580a5",
   "metadata": {},
   "outputs": [],
   "source": [
    "thickness = [300, 200, 500, 200]"
   ]
  },
  {
   "cell_type": "markdown",
   "id": "ff8d9fe2",
   "metadata": {},
   "source": [
    "The structure we imagined so far has an air superstrate, 200 nm of glass, 500 nm of water and a glass substrate.\n",
    "\n",
    "### Creating an instance of `Structure()`\n",
    "\n",
    "Now let's get real. We will create a objet belonging to the class `Structure`, using the above defined elements.\n",
    "\n"
   ]
  },
  {
   "cell_type": "code",
   "execution_count": 4,
   "id": "46163e59",
   "metadata": {},
   "outputs": [
    {
     "name": "stdout",
     "output_type": "stream",
     "text": [
      "List of materials:\n",
      "Simple, non dispersive: epsilon= 1.0\n",
      "Magnetic, non dispersive: epsilon= 2.0  mu= 1.2\n",
      "Database material: Glass, model: custom function, see material_data.json\n",
      "Database material: Water, model: Exp Data\n"
     ]
    }
   ],
   "source": [
    "from PyMoosh import *\n",
    "\n",
    "thing=Structure(material_list, stack, thickness)"
   ]
  },
  {
   "cell_type": "markdown",
   "id": "0135cfcb",
   "metadata": {},
   "source": [
    "Just in case this would be useful, once the structure has been declared, it contains the list of materials, which contains only objects that are materials and it is possible to access their constitutive parameters quite easily:"
   ]
  },
  {
   "cell_type": "code",
   "execution_count": 5,
   "id": "27bc9972",
   "metadata": {},
   "outputs": [
    {
     "name": "stdout",
     "output_type": "stream",
     "text": [
      "(1.3336432680149413+0j)\n"
     ]
    }
   ],
   "source": [
    "glass = thing.materials[2]\n",
    "water = thing.materials[3]\n",
    "\n",
    "refractive_index_glass = sqrt(glass.get_permittivity(600))\n",
    "epsilon = water.get_permittivity(600)\n",
    "# You need to specify a wavelength at which to compute the permittivity, here 600 nm\n",
    "\n",
    "print(np.sqrt(epsilon))"
   ]
  },
  {
   "cell_type": "markdown",
   "id": "68b4aed3",
   "metadata": {},
   "source": [
    "## A single interface as full running example\n",
    "\n",
    "Let us define a structure corresponding to a single interface between two materials. The above material is air, the substrate is a dielectric with a refractive index of 1.5 and thus a permittivity of $2.25 =1.5^2$.\n",
    "\n"
   ]
  },
  {
   "cell_type": "code",
   "execution_count": 6,
   "id": "18ecc4a5",
   "metadata": {},
   "outputs": [
    {
     "name": "stdout",
     "output_type": "stream",
     "text": [
      "List of materials:\n",
      "Simple, non dispersive: epsilon= 1.0\n",
      "Simple, non dispersive: epsilon= 2.25\n"
     ]
    }
   ],
   "source": [
    "wavelength = 600\n",
    "interface = Structure([1.,2.25],[0, 1],[10*wavelength, 10*wavelength])"
   ]
  },
  {
   "cell_type": "markdown",
   "id": "7f6de959",
   "metadata": {},
   "source": [
    "### Function `coefficient`\n",
    "\n",
    "Now we can use the function `coefficient` which provides us with the reflection and transmission coefficients (amplitude and energy) of a multilayer. You need to provide :\n",
    "\n",
    "- A structure (the object)\n",
    "- The wavelength (in nm)\n",
    "- The incidence angle (**in radian** !)\n",
    "- The polarization : 0 is for TE, 1 (or anything else, in fact) is for TM.\n",
    "\n",
    "For a single interface in normal incidence, the Fresnel coefficient (amplitude) is supposed to be 0.2 (and 0.04 in energy). Let's see !"
   ]
  },
  {
   "cell_type": "code",
   "execution_count": 7,
   "id": "ca215b7c",
   "metadata": {},
   "outputs": [
    {
     "name": "stdout",
     "output_type": "stream",
     "text": [
      "Fresnel coefficient\n",
      "(0.20000000000000007+0j)\n",
      "Reflectance\n",
      "0.04000000000000003\n"
     ]
    }
   ],
   "source": [
    "# Incidence angle\n",
    "angle_inc = 0.\n",
    "# Polarization\n",
    "pol = 1.\n",
    "[r,t,R,T] = coefficient(interface,wavelength,angle_inc,pol)\n",
    "\n",
    "print('Fresnel coefficient')\n",
    "print(r)\n",
    "print('Reflectance')\n",
    "print(R)"
   ]
  },
  {
   "cell_type": "markdown",
   "id": "4ee357c6",
   "metadata": {},
   "source": [
    "### Function `angular`\n",
    "\n",
    "In order to get the reflectance as a function of the angle of incidence more easily, the function `angular` requires: \n",
    "\n",
    "- a structure,\n",
    "- the wavelength,\n",
    "- the polarization (0 or 1, as above)\n",
    "- the beginning of the incidence angle range (**in degrees**)\n",
    "- the end of the incidence angle range (**in degrees**)\n",
    "- the number of different incidence angle\n",
    "\n",
    "And then you can plot and see the difference between the two polarization. If ever you speak french, you can check [this video](https://youtu.be/5L1mFYTntGk) for more on polarization.\n"
   ]
  },
  {
   "cell_type": "code",
   "execution_count": 8,
   "id": "522df805",
   "metadata": {},
   "outputs": [
    {
     "ename": "NameError",
     "evalue": "name 'angular' is not defined",
     "output_type": "error",
     "traceback": [
      "\u001b[0;31m---------------------------------------------------------------------------\u001b[0m",
      "\u001b[0;31mNameError\u001b[0m                                 Traceback (most recent call last)",
      "Cell \u001b[0;32mIn[8], line 2\u001b[0m\n\u001b[1;32m      1\u001b[0m \u001b[38;5;66;03m# For TE polarization\u001b[39;00m\n\u001b[0;32m----> 2\u001b[0m incidence, r, t, R, T \u001b[38;5;241m=\u001b[39m \u001b[43mangular\u001b[49m(interface, wavelength, \u001b[38;5;241m0.\u001b[39m, \u001b[38;5;241m0.\u001b[39m, \u001b[38;5;241m89.\u001b[39m, \u001b[38;5;241m200\u001b[39m)\n\u001b[1;32m      3\u001b[0m \u001b[38;5;66;03m# For TM polarization, same incidence angles\u001b[39;00m\n\u001b[1;32m      4\u001b[0m incidence, r_p, t_p, R_p, T_p \u001b[38;5;241m=\u001b[39m angular(interface, wavelength, \u001b[38;5;241m1.\u001b[39m, \u001b[38;5;241m0.\u001b[39m, \u001b[38;5;241m89.\u001b[39m, \u001b[38;5;241m200\u001b[39m)\n",
      "\u001b[0;31mNameError\u001b[0m: name 'angular' is not defined"
     ]
    }
   ],
   "source": [
    "# For TE polarization\n",
    "incidence, r, t, R, T = angular(interface, wavelength, 0., 0., 89., 200)\n",
    "# For TM polarization, same incidence angles\n",
    "incidence, r_p, t_p, R_p, T_p = angular(interface, wavelength, 1., 0., 89., 200)\n",
    "\n",
    "# Visualization of the result\n",
    "import matplotlib.pyplot as plt\n",
    "plt.rcParams['figure.dpi'] = 150\n",
    "\n",
    "plt.figure(1)\n",
    "plt.plot(incidence, R, label=\"TE polarisation\")\n",
    "plt.plot(incidence, R_p, label=\"TM polarisation\")\n",
    "plt.ylabel('Reflectance')\n",
    "plt.ylim(0,1)\n",
    "plt.legend()\n",
    "plt.show()\n"
   ]
  },
  {
   "cell_type": "markdown",
   "id": "541dca4b",
   "metadata": {},
   "source": [
    "### A map of the field\n",
    "\n",
    "First you have to define your \"observation window\" and there is a class `Window` for that. Essentially you need to specify : \n",
    "\n",
    "- The horizontal width of the window (in nm)\n",
    "- Where you put the incident beam with respect to the window (or the other way around, which is why this parameter is in the object Window). The value 0 corresponds to the middle of the incident beam completely on the left, 1 means completely on the right, and 0.5 just in the middle.\n",
    "- The horizontal size of a single pixel of the field map (real number, in nm)\n",
    "- The vertical size of a single pixel (real number, in nm)\n",
    "\n",
    "For a window of 70 wavelength, with a beam quite at 70% of the window, and square pixels 30 nm wide, this gives:"
   ]
  },
  {
   "cell_type": "code",
   "execution_count": null,
   "id": "4f09fa1c",
   "metadata": {},
   "outputs": [],
   "source": [
    "window = Window(70*wavelength, 0.7, 30., 30.)\n"
   ]
  },
  {
   "cell_type": "markdown",
   "id": "b0cd45b1",
   "metadata": {},
   "source": [
    "Now you need to define your incident beam by providing:\n",
    "\n",
    "- The wavelength in vacuum, of course (the frequency, in reality)\n",
    "- The angle of incidence (**in radian**)\n",
    "- The polarization (0 or 1, as above)\n",
    "- The beam typical width (the waist, in nm)\n",
    "\n",
    "For a 10 wavelength wide beam, with a 45° incidence angle ($\\pi/4$ radian) in TE polarization:\n"
   ]
  },
  {
   "cell_type": "code",
   "execution_count": null,
   "id": "d3190506",
   "metadata": {},
   "outputs": [],
   "source": [
    "import numpy as np\n",
    "\n",
    "beam = Beam(wavelength, np.pi/4, 0, 10*wavelength)\n"
   ]
  },
  {
   "cell_type": "markdown",
   "id": "f5b480ab",
   "metadata": {},
   "source": [
    "Now you can call `field` to which you should provide three objects: the structure, the beam and the window..."
   ]
  },
  {
   "cell_type": "code",
   "execution_count": null,
   "id": "5814b0f7",
   "metadata": {},
   "outputs": [],
   "source": [
    "E = field(interface,beam,window)\n",
    "\n",
    "plt.figure(2)\n",
    "plt.imshow(abs(E),cmap='jet',extent=[0,window.width,0,sum(interface.thickness)],aspect='auto')\n",
    "plt.colorbar()"
   ]
  },
  {
   "cell_type": "markdown",
   "id": "36313dda",
   "metadata": {},
   "source": [
    "> As you can see, the simulation domain is periodic: if something goes out on the right, it comes in on the left. "
   ]
  },
  {
   "cell_type": "markdown",
   "id": "adaf7656",
   "metadata": {},
   "source": [
    "We can directly modify the object Window to change the centering of the beam and the thickness of the substrate represented, making things clearer:\n"
   ]
  },
  {
   "cell_type": "code",
   "execution_count": null,
   "id": "5a30f837",
   "metadata": {},
   "outputs": [],
   "source": [
    "beam.polarization = 0\n",
    "window.C = 0.3\n",
    "interface.thickness[0] = 20*wavelength\n",
    "E = field(interface, beam, window)\n",
    "\n",
    "plt.figure(2)\n",
    "plt.imshow(abs(E), cmap='jet',extent=[0, window.width, 0,sum(interface.thickness)], aspect='auto')\n",
    "plt.colorbar()"
   ]
  },
  {
   "cell_type": "markdown",
   "id": "95979791",
   "metadata": {},
   "source": [
    "Now the incident beam can be seen, as well as the reflected one and the interferences between the two. Representing the real part of the field instead of its modulus allows to visualize the wavefronts. We do that by representing only the positive values of the real part to make things prettier (it's just a matter of aesthetics). "
   ]
  },
  {
   "cell_type": "code",
   "execution_count": null,
   "id": "42244e35",
   "metadata": {},
   "outputs": [],
   "source": [
    "F = np.real(E)\n",
    "\n",
    "plt.imshow(F*(F>0), cmap='jet',extent=[0, window.width,0, sum(interface.thickness)])\n",
    "plt.colorbar()\n",
    "plt.show()"
   ]
  },
  {
   "cell_type": "markdown",
   "id": "31687ec5",
   "metadata": {},
   "source": [
    "## Brewster angle\n",
    "\n"
   ]
  },
  {
   "cell_type": "markdown",
   "id": "0eee7160",
   "metadata": {},
   "source": [
    "The Brewster angle is the angle for which the reflection coefficient corresponding to the $p$ polarization vanishes. We have the foloowing analytic expression \n",
    "$$\\theta_B = \\arctan \\frac{n_2}{n_1} \\simeq 56.31\\mbox{°}$$\n",
    "and we can check on the reflectance that, indeed, one of the polarization vanishes. "
   ]
  },
  {
   "cell_type": "code",
   "execution_count": null,
   "id": "554a0655",
   "metadata": {},
   "outputs": [],
   "source": [
    "import matplotlib.pyplot as plt\n",
    "plt.figure(1)\n",
    "plt.plot(incidence,R, label=\"TE polarisation\")\n",
    "plt.plot(incidence,R_p, label=\"TM polarisation\")\n",
    "plt.xlabel(\"Inc. angle\")\n",
    "plt.ylabel('Reflectance')\n",
    "plt.ylim(0,1)\n",
    "plt.legend()\n",
    "plt.show()\n"
   ]
  },
  {
   "cell_type": "markdown",
   "id": "39f3be46",
   "metadata": {},
   "source": [
    "It it then possible to map the corresponding field, to see that no wave is reflected here :"
   ]
  },
  {
   "cell_type": "code",
   "execution_count": null,
   "id": "d594ec7d",
   "metadata": {},
   "outputs": [],
   "source": [
    "beam.polarization = 1\n",
    "beam.incidence = 56.31*np.pi/180.\n",
    "E = field(interface, beam, window)\n",
    "\n",
    "plt.figure(2)\n",
    "plt.imshow(abs(E), cmap='jet',extent=[ 0, window.width, 0, sum(interface.thickness)], aspect='auto')\n",
    "plt.colorbar()"
   ]
  },
  {
   "cell_type": "code",
   "execution_count": null,
   "id": "5f8077de",
   "metadata": {},
   "outputs": [],
   "source": []
  }
 ],
 "metadata": {
  "kernelspec": {
   "display_name": "Python 3 (ipykernel)",
   "language": "python",
   "name": "python3"
  },
  "language_info": {
   "codemirror_mode": {
    "name": "ipython",
    "version": 3
   },
   "file_extension": ".py",
   "mimetype": "text/x-python",
   "name": "python",
   "nbconvert_exporter": "python",
   "pygments_lexer": "ipython3",
   "version": "3.10.9"
  }
 },
 "nbformat": 4,
 "nbformat_minor": 5
}
